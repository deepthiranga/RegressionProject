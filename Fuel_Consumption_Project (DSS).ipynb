{
 "cells": [
  {
   "cell_type": "markdown",
   "id": "3ccde9fb",
   "metadata": {},
   "source": [
    "### Table of contents <a id='menu'>\n",
    "\n",
    "* [0. Data Collected](#dc)\n",
    "* [1. Data Validation & Cleaning](#dvc)\n",
    "     \n",
    "    @ Insights\n",
    "* [2. EDA](#eda)\n",
    "    \n",
    "    @Predictive Modelling\n",
    "* [3. x,y](#xy)\n",
    "* [4. Feature Selection of X](#fsox)\n",
    "* [5. Train-Test split](#tts)\n",
    "* [6. Na & Out of Train & Test](#nott)\n",
    "* [7. Pre-Processing of xtrain & xtest](#ppxt)\n",
    "* [8. Modelling](#model)\n",
    "* [9. Model Performance](#mp)\n",
    "* [10. RealTimePredictions](#rtp)"
   ]
  },
  {
   "cell_type": "markdown",
   "id": "96a49b32",
   "metadata": {},
   "source": [
    "**Python Libraries Required**"
   ]
  },
  {
   "cell_type": "code",
   "execution_count": 1,
   "id": "132549ec",
   "metadata": {},
   "outputs": [],
   "source": [
    "# Data Mining\n",
    "import pandas as pd\n",
    "import numpy as np\n",
    "\n",
    "# Data Visualizations\n",
    "import matplotlib.pyplot as plt\n",
    "import seaborn as sns\n",
    "import plotly.express as px\n",
    "%matplotlib inline\n",
    "\n",
    "# Warnings\n",
    "import warnings\n",
    "warnings.filterwarnings(\"ignore\")"
   ]
  },
  {
   "cell_type": "markdown",
   "id": "40f48e41",
   "metadata": {},
   "source": [
    "### 0. Data Collected <a id='dc'>\n",
    "    \n",
    "[Back to Top](#menu)\n",
    "\n",
    "* The collected Fuel_Consumption dataset we will check each and every column data properly"
   ]
  },
  {
   "cell_type": "code",
   "execution_count": 4,
   "id": "c9feb3f0",
   "metadata": {},
   "outputs": [
    {
     "ename": "FileNotFoundError",
     "evalue": "[Errno 2] No such file or directory: 'Fuel_Consumption.csv.xlsx'",
     "output_type": "error",
     "traceback": [
      "\u001b[1;31m---------------------------------------------------------------------------\u001b[0m",
      "\u001b[1;31mFileNotFoundError\u001b[0m                         Traceback (most recent call last)",
      "Cell \u001b[1;32mIn[4], line 3\u001b[0m\n\u001b[0;32m      1\u001b[0m \u001b[38;5;66;03m# Loading Dataset\u001b[39;00m\n\u001b[1;32m----> 3\u001b[0m rawdata \u001b[38;5;241m=\u001b[39m pd\u001b[38;5;241m.\u001b[39mread_csv(\u001b[38;5;124m\"\u001b[39m\u001b[38;5;124mFuel_Consumption.csv.xlsx\u001b[39m\u001b[38;5;124m\"\u001b[39m)\n",
      "File \u001b[1;32m~\\anaconda3\\Lib\\site-packages\\pandas\\util\\_decorators.py:211\u001b[0m, in \u001b[0;36mdeprecate_kwarg.<locals>._deprecate_kwarg.<locals>.wrapper\u001b[1;34m(*args, **kwargs)\u001b[0m\n\u001b[0;32m    209\u001b[0m     \u001b[38;5;28;01melse\u001b[39;00m:\n\u001b[0;32m    210\u001b[0m         kwargs[new_arg_name] \u001b[38;5;241m=\u001b[39m new_arg_value\n\u001b[1;32m--> 211\u001b[0m \u001b[38;5;28;01mreturn\u001b[39;00m func(\u001b[38;5;241m*\u001b[39margs, \u001b[38;5;241m*\u001b[39m\u001b[38;5;241m*\u001b[39mkwargs)\n",
      "File \u001b[1;32m~\\anaconda3\\Lib\\site-packages\\pandas\\util\\_decorators.py:331\u001b[0m, in \u001b[0;36mdeprecate_nonkeyword_arguments.<locals>.decorate.<locals>.wrapper\u001b[1;34m(*args, **kwargs)\u001b[0m\n\u001b[0;32m    325\u001b[0m \u001b[38;5;28;01mif\u001b[39;00m \u001b[38;5;28mlen\u001b[39m(args) \u001b[38;5;241m>\u001b[39m num_allow_args:\n\u001b[0;32m    326\u001b[0m     warnings\u001b[38;5;241m.\u001b[39mwarn(\n\u001b[0;32m    327\u001b[0m         msg\u001b[38;5;241m.\u001b[39mformat(arguments\u001b[38;5;241m=\u001b[39m_format_argument_list(allow_args)),\n\u001b[0;32m    328\u001b[0m         \u001b[38;5;167;01mFutureWarning\u001b[39;00m,\n\u001b[0;32m    329\u001b[0m         stacklevel\u001b[38;5;241m=\u001b[39mfind_stack_level(),\n\u001b[0;32m    330\u001b[0m     )\n\u001b[1;32m--> 331\u001b[0m \u001b[38;5;28;01mreturn\u001b[39;00m func(\u001b[38;5;241m*\u001b[39margs, \u001b[38;5;241m*\u001b[39m\u001b[38;5;241m*\u001b[39mkwargs)\n",
      "File \u001b[1;32m~\\anaconda3\\Lib\\site-packages\\pandas\\io\\parsers\\readers.py:950\u001b[0m, in \u001b[0;36mread_csv\u001b[1;34m(filepath_or_buffer, sep, delimiter, header, names, index_col, usecols, squeeze, prefix, mangle_dupe_cols, dtype, engine, converters, true_values, false_values, skipinitialspace, skiprows, skipfooter, nrows, na_values, keep_default_na, na_filter, verbose, skip_blank_lines, parse_dates, infer_datetime_format, keep_date_col, date_parser, dayfirst, cache_dates, iterator, chunksize, compression, thousands, decimal, lineterminator, quotechar, quoting, doublequote, escapechar, comment, encoding, encoding_errors, dialect, error_bad_lines, warn_bad_lines, on_bad_lines, delim_whitespace, low_memory, memory_map, float_precision, storage_options)\u001b[0m\n\u001b[0;32m    935\u001b[0m kwds_defaults \u001b[38;5;241m=\u001b[39m _refine_defaults_read(\n\u001b[0;32m    936\u001b[0m     dialect,\n\u001b[0;32m    937\u001b[0m     delimiter,\n\u001b[1;32m   (...)\u001b[0m\n\u001b[0;32m    946\u001b[0m     defaults\u001b[38;5;241m=\u001b[39m{\u001b[38;5;124m\"\u001b[39m\u001b[38;5;124mdelimiter\u001b[39m\u001b[38;5;124m\"\u001b[39m: \u001b[38;5;124m\"\u001b[39m\u001b[38;5;124m,\u001b[39m\u001b[38;5;124m\"\u001b[39m},\n\u001b[0;32m    947\u001b[0m )\n\u001b[0;32m    948\u001b[0m kwds\u001b[38;5;241m.\u001b[39mupdate(kwds_defaults)\n\u001b[1;32m--> 950\u001b[0m \u001b[38;5;28;01mreturn\u001b[39;00m _read(filepath_or_buffer, kwds)\n",
      "File \u001b[1;32m~\\anaconda3\\Lib\\site-packages\\pandas\\io\\parsers\\readers.py:605\u001b[0m, in \u001b[0;36m_read\u001b[1;34m(filepath_or_buffer, kwds)\u001b[0m\n\u001b[0;32m    602\u001b[0m _validate_names(kwds\u001b[38;5;241m.\u001b[39mget(\u001b[38;5;124m\"\u001b[39m\u001b[38;5;124mnames\u001b[39m\u001b[38;5;124m\"\u001b[39m, \u001b[38;5;28;01mNone\u001b[39;00m))\n\u001b[0;32m    604\u001b[0m \u001b[38;5;66;03m# Create the parser.\u001b[39;00m\n\u001b[1;32m--> 605\u001b[0m parser \u001b[38;5;241m=\u001b[39m TextFileReader(filepath_or_buffer, \u001b[38;5;241m*\u001b[39m\u001b[38;5;241m*\u001b[39mkwds)\n\u001b[0;32m    607\u001b[0m \u001b[38;5;28;01mif\u001b[39;00m chunksize \u001b[38;5;129;01mor\u001b[39;00m iterator:\n\u001b[0;32m    608\u001b[0m     \u001b[38;5;28;01mreturn\u001b[39;00m parser\n",
      "File \u001b[1;32m~\\anaconda3\\Lib\\site-packages\\pandas\\io\\parsers\\readers.py:1442\u001b[0m, in \u001b[0;36mTextFileReader.__init__\u001b[1;34m(self, f, engine, **kwds)\u001b[0m\n\u001b[0;32m   1439\u001b[0m     \u001b[38;5;28mself\u001b[39m\u001b[38;5;241m.\u001b[39moptions[\u001b[38;5;124m\"\u001b[39m\u001b[38;5;124mhas_index_names\u001b[39m\u001b[38;5;124m\"\u001b[39m] \u001b[38;5;241m=\u001b[39m kwds[\u001b[38;5;124m\"\u001b[39m\u001b[38;5;124mhas_index_names\u001b[39m\u001b[38;5;124m\"\u001b[39m]\n\u001b[0;32m   1441\u001b[0m \u001b[38;5;28mself\u001b[39m\u001b[38;5;241m.\u001b[39mhandles: IOHandles \u001b[38;5;241m|\u001b[39m \u001b[38;5;28;01mNone\u001b[39;00m \u001b[38;5;241m=\u001b[39m \u001b[38;5;28;01mNone\u001b[39;00m\n\u001b[1;32m-> 1442\u001b[0m \u001b[38;5;28mself\u001b[39m\u001b[38;5;241m.\u001b[39m_engine \u001b[38;5;241m=\u001b[39m \u001b[38;5;28mself\u001b[39m\u001b[38;5;241m.\u001b[39m_make_engine(f, \u001b[38;5;28mself\u001b[39m\u001b[38;5;241m.\u001b[39mengine)\n",
      "File \u001b[1;32m~\\anaconda3\\Lib\\site-packages\\pandas\\io\\parsers\\readers.py:1735\u001b[0m, in \u001b[0;36mTextFileReader._make_engine\u001b[1;34m(self, f, engine)\u001b[0m\n\u001b[0;32m   1733\u001b[0m     \u001b[38;5;28;01mif\u001b[39;00m \u001b[38;5;124m\"\u001b[39m\u001b[38;5;124mb\u001b[39m\u001b[38;5;124m\"\u001b[39m \u001b[38;5;129;01mnot\u001b[39;00m \u001b[38;5;129;01min\u001b[39;00m mode:\n\u001b[0;32m   1734\u001b[0m         mode \u001b[38;5;241m+\u001b[39m\u001b[38;5;241m=\u001b[39m \u001b[38;5;124m\"\u001b[39m\u001b[38;5;124mb\u001b[39m\u001b[38;5;124m\"\u001b[39m\n\u001b[1;32m-> 1735\u001b[0m \u001b[38;5;28mself\u001b[39m\u001b[38;5;241m.\u001b[39mhandles \u001b[38;5;241m=\u001b[39m get_handle(\n\u001b[0;32m   1736\u001b[0m     f,\n\u001b[0;32m   1737\u001b[0m     mode,\n\u001b[0;32m   1738\u001b[0m     encoding\u001b[38;5;241m=\u001b[39m\u001b[38;5;28mself\u001b[39m\u001b[38;5;241m.\u001b[39moptions\u001b[38;5;241m.\u001b[39mget(\u001b[38;5;124m\"\u001b[39m\u001b[38;5;124mencoding\u001b[39m\u001b[38;5;124m\"\u001b[39m, \u001b[38;5;28;01mNone\u001b[39;00m),\n\u001b[0;32m   1739\u001b[0m     compression\u001b[38;5;241m=\u001b[39m\u001b[38;5;28mself\u001b[39m\u001b[38;5;241m.\u001b[39moptions\u001b[38;5;241m.\u001b[39mget(\u001b[38;5;124m\"\u001b[39m\u001b[38;5;124mcompression\u001b[39m\u001b[38;5;124m\"\u001b[39m, \u001b[38;5;28;01mNone\u001b[39;00m),\n\u001b[0;32m   1740\u001b[0m     memory_map\u001b[38;5;241m=\u001b[39m\u001b[38;5;28mself\u001b[39m\u001b[38;5;241m.\u001b[39moptions\u001b[38;5;241m.\u001b[39mget(\u001b[38;5;124m\"\u001b[39m\u001b[38;5;124mmemory_map\u001b[39m\u001b[38;5;124m\"\u001b[39m, \u001b[38;5;28;01mFalse\u001b[39;00m),\n\u001b[0;32m   1741\u001b[0m     is_text\u001b[38;5;241m=\u001b[39mis_text,\n\u001b[0;32m   1742\u001b[0m     errors\u001b[38;5;241m=\u001b[39m\u001b[38;5;28mself\u001b[39m\u001b[38;5;241m.\u001b[39moptions\u001b[38;5;241m.\u001b[39mget(\u001b[38;5;124m\"\u001b[39m\u001b[38;5;124mencoding_errors\u001b[39m\u001b[38;5;124m\"\u001b[39m, \u001b[38;5;124m\"\u001b[39m\u001b[38;5;124mstrict\u001b[39m\u001b[38;5;124m\"\u001b[39m),\n\u001b[0;32m   1743\u001b[0m     storage_options\u001b[38;5;241m=\u001b[39m\u001b[38;5;28mself\u001b[39m\u001b[38;5;241m.\u001b[39moptions\u001b[38;5;241m.\u001b[39mget(\u001b[38;5;124m\"\u001b[39m\u001b[38;5;124mstorage_options\u001b[39m\u001b[38;5;124m\"\u001b[39m, \u001b[38;5;28;01mNone\u001b[39;00m),\n\u001b[0;32m   1744\u001b[0m )\n\u001b[0;32m   1745\u001b[0m \u001b[38;5;28;01massert\u001b[39;00m \u001b[38;5;28mself\u001b[39m\u001b[38;5;241m.\u001b[39mhandles \u001b[38;5;129;01mis\u001b[39;00m \u001b[38;5;129;01mnot\u001b[39;00m \u001b[38;5;28;01mNone\u001b[39;00m\n\u001b[0;32m   1746\u001b[0m f \u001b[38;5;241m=\u001b[39m \u001b[38;5;28mself\u001b[39m\u001b[38;5;241m.\u001b[39mhandles\u001b[38;5;241m.\u001b[39mhandle\n",
      "File \u001b[1;32m~\\anaconda3\\Lib\\site-packages\\pandas\\io\\common.py:856\u001b[0m, in \u001b[0;36mget_handle\u001b[1;34m(path_or_buf, mode, encoding, compression, memory_map, is_text, errors, storage_options)\u001b[0m\n\u001b[0;32m    851\u001b[0m \u001b[38;5;28;01melif\u001b[39;00m \u001b[38;5;28misinstance\u001b[39m(handle, \u001b[38;5;28mstr\u001b[39m):\n\u001b[0;32m    852\u001b[0m     \u001b[38;5;66;03m# Check whether the filename is to be opened in binary mode.\u001b[39;00m\n\u001b[0;32m    853\u001b[0m     \u001b[38;5;66;03m# Binary mode does not support 'encoding' and 'newline'.\u001b[39;00m\n\u001b[0;32m    854\u001b[0m     \u001b[38;5;28;01mif\u001b[39;00m ioargs\u001b[38;5;241m.\u001b[39mencoding \u001b[38;5;129;01mand\u001b[39;00m \u001b[38;5;124m\"\u001b[39m\u001b[38;5;124mb\u001b[39m\u001b[38;5;124m\"\u001b[39m \u001b[38;5;129;01mnot\u001b[39;00m \u001b[38;5;129;01min\u001b[39;00m ioargs\u001b[38;5;241m.\u001b[39mmode:\n\u001b[0;32m    855\u001b[0m         \u001b[38;5;66;03m# Encoding\u001b[39;00m\n\u001b[1;32m--> 856\u001b[0m         handle \u001b[38;5;241m=\u001b[39m \u001b[38;5;28mopen\u001b[39m(\n\u001b[0;32m    857\u001b[0m             handle,\n\u001b[0;32m    858\u001b[0m             ioargs\u001b[38;5;241m.\u001b[39mmode,\n\u001b[0;32m    859\u001b[0m             encoding\u001b[38;5;241m=\u001b[39mioargs\u001b[38;5;241m.\u001b[39mencoding,\n\u001b[0;32m    860\u001b[0m             errors\u001b[38;5;241m=\u001b[39merrors,\n\u001b[0;32m    861\u001b[0m             newline\u001b[38;5;241m=\u001b[39m\u001b[38;5;124m\"\u001b[39m\u001b[38;5;124m\"\u001b[39m,\n\u001b[0;32m    862\u001b[0m         )\n\u001b[0;32m    863\u001b[0m     \u001b[38;5;28;01melse\u001b[39;00m:\n\u001b[0;32m    864\u001b[0m         \u001b[38;5;66;03m# Binary mode\u001b[39;00m\n\u001b[0;32m    865\u001b[0m         handle \u001b[38;5;241m=\u001b[39m \u001b[38;5;28mopen\u001b[39m(handle, ioargs\u001b[38;5;241m.\u001b[39mmode)\n",
      "\u001b[1;31mFileNotFoundError\u001b[0m: [Errno 2] No such file or directory: 'Fuel_Consumption.csv.xlsx'"
     ]
    }
   ],
   "source": [
    "# Loading Dataset\n",
    "\n",
    "rawdata = pd.read_csv(\"Fuel_Consumption.csv.xlsx\")"
   ]
  },
  {
   "cell_type": "code",
   "execution_count": null,
   "id": "f9baf470",
   "metadata": {},
   "outputs": [],
   "source": [
    "rawdata.columns"
   ]
  },
  {
   "cell_type": "markdown",
   "id": "3d119c25",
   "metadata": {},
   "source": [
    "**Fuel_Consumption_Dataset Features Info**:"
   ]
  },
  {
   "cell_type": "markdown",
   "id": "48e8eb03",
   "metadata": {},
   "source": [
    "Column|Description\n",
    "-----------|--------\n",
    "Model Year|Model release year\n",
    "Make|The Brand of the vehicle\n",
    "Model|Model refers to the specific vehicle model\n",
    "Vehicle Class|The capacity of vehicle\n",
    "Engine Size|Total displacement of all cylinders (in litres [L]); electric motor peak power output (in kilowatts [kW]); number of engine\n",
    "cylinders\n",
    "Cylinders|Number of Cylinders\n",
    "Transmission|A = Automatic; AM = Automated manual; AS = Automatic with select shift; AV = Continuously variable; M = Manual; Number of gears/speeds(1–10)\n",
    "Fuel Type|X = Regular gasoline; Z = Premium gasoline; D = Diesel; E = E85; B = Electricity; N = Natural gas\n",
    "Fuel Consumption (City (L/100 km)|City fuel consumption ratings are shown in liters per 100 kilometers (L/100 km) - \n",
    "Fuel Consumption(Hwy (L/100 km))|highway fuel consumption ratings are shown in liters per 100 kilometers (L/100 km) - \n",
    "Fuel Consumption(Comb (L/100 km))|Combined fuel consumption ratings are shown in liters per 100 kilometers (L/100 km) - \n",
    "Fuel Consumption(Comb (mpg))|The combined rating is shown in L/100 km and in miles per imperial gallon (mpg)\n",
    "CO2 Emissions(g/km)|The tailpipe emissions of carbon dioxide (in grams per kilometer) for combined city and highway driving\n",
    "CO2 Rating|The tailpipe emissions of carbon dioxide rated on a scale from 1 (worst) to 10 (best)\n",
    "Smog Rating|The tailpipe emissions of smog-forming pollutants rated on a scale from 1 (worst) to 10 (best)"
   ]
  },
  {
   "cell_type": "markdown",
   "id": "8ac70b56",
   "metadata": {},
   "source": [
    "**Basic Checks of Fuel_Consumption Dataset**"
   ]
  },
  {
   "cell_type": "code",
   "execution_count": null,
   "id": "e7f385fc",
   "metadata": {},
   "outputs": [],
   "source": [
    "rawdata.shape"
   ]
  },
  {
   "cell_type": "code",
   "execution_count": 1,
   "id": "f2cbdb12",
   "metadata": {},
   "outputs": [
    {
     "ename": "NameError",
     "evalue": "name 'rawdata' is not defined",
     "output_type": "error",
     "traceback": [
      "\u001b[1;31m---------------------------------------------------------------------------\u001b[0m",
      "\u001b[1;31mNameError\u001b[0m                                 Traceback (most recent call last)",
      "Cell \u001b[1;32mIn[1], line 1\u001b[0m\n\u001b[1;32m----> 1\u001b[0m rawdata\u001b[38;5;241m.\u001b[39minfo()\n",
      "\u001b[1;31mNameError\u001b[0m: name 'rawdata' is not defined"
     ]
    }
   ],
   "source": [
    "rawdata.info()"
   ]
  },
  {
   "cell_type": "markdown",
   "id": "fef0035d",
   "metadata": {},
   "source": [
    "* Some of the columns are having missing values\n",
    "* Some of the numeric columns are in object format , need to convert them"
   ]
  },
  {
   "cell_type": "code",
   "execution_count": null,
   "id": "503e4970",
   "metadata": {},
   "outputs": [],
   "source": [
    "print(\"First five rows of Data: \")\n",
    "display(rawdata.head())\n",
    "\n",
    "print()\n",
    "\n",
    "print(\"Last Five rows of Data: \")\n",
    "display(rawdata.tail())"
   ]
  },
  {
   "cell_type": "markdown",
   "id": "d3f40cd9",
   "metadata": {},
   "source": [
    "**Handling Duplicates**\n",
    "* Convert categorical columns into lower case for the duplicates check\n",
    "\n",
    "Note:\n",
    "* You need to check duplicates before data validation and after data validation"
   ]
  },
  {
   "cell_type": "code",
   "execution_count": null,
   "id": "6b657552",
   "metadata": {},
   "outputs": [],
   "source": [
    "# converting categorical columns to lower\n",
    "for i in rawdata.columns:\n",
    "    if rawdata[i].dtype == object:\n",
    "        rawdata[i] = rawdata[i].str.lower()"
   ]
  },
  {
   "cell_type": "code",
   "execution_count": null,
   "id": "c08df8f4",
   "metadata": {},
   "outputs": [],
   "source": [
    "# check duplicates\n",
    "rawdata[rawdata.duplicated()] "
   ]
  },
  {
   "cell_type": "code",
   "execution_count": null,
   "id": "d075fe42",
   "metadata": {},
   "outputs": [],
   "source": [
    "rawdata = rawdata.drop_duplicates().reset_index(drop=True)"
   ]
  },
  {
   "cell_type": "markdown",
   "id": "5ebffde9",
   "metadata": {},
   "source": [
    "**Deleting the Model Year Column**"
   ]
  },
  {
   "cell_type": "code",
   "execution_count": null,
   "id": "a9a7c026",
   "metadata": {},
   "outputs": [],
   "source": [
    "del rawdata['Model Year']"
   ]
  },
  {
   "cell_type": "code",
   "execution_count": null,
   "id": "51a4dad6",
   "metadata": {},
   "outputs": [],
   "source": [
    "rawdata.head(2)"
   ]
  },
  {
   "cell_type": "code",
   "execution_count": null,
   "id": "d367e721",
   "metadata": {},
   "outputs": [],
   "source": [
    "rawdata.shape"
   ]
  },
  {
   "cell_type": "markdown",
   "id": "d469b98c",
   "metadata": {},
   "source": [
    "**Checking Missing values**"
   ]
  },
  {
   "cell_type": "code",
   "execution_count": null,
   "id": "fd8e3a85",
   "metadata": {},
   "outputs": [],
   "source": [
    "rawdata.isnull().sum()"
   ]
  },
  {
   "cell_type": "markdown",
   "id": "fe95ea5b",
   "metadata": {},
   "source": [
    "### 1. Data Validation & Cleaning <a id='dvc'>\n",
    "[Back to top](#menu)"
   ]
  },
  {
   "cell_type": "markdown",
   "id": "a3de498b",
   "metadata": {},
   "source": [
    "**Checking each and every column data**\n",
    "* We are using string methods for this entire analysis\n",
    "* Here i am Modifying the all columns data"
   ]
  },
  {
   "cell_type": "code",
   "execution_count": null,
   "id": "4a248053",
   "metadata": {},
   "outputs": [],
   "source": [
    "rawdata.rename(columns={'Engine Size(L)':\"Engine_Size_L\",\n",
    "                        'Fuel Type':\"Fuel_Type\", \n",
    "                        'Vehicle Class':'Vehicle_Class',\n",
    "                        'Fuel Consumption (City (L/100 km)':\"Fuel_Consumption_City_L_100_km\",\n",
    "                        'Fuel Consumption(Hwy (L/100 km))':\"Fuel_Consumption_Hwy_L_100_km\",\n",
    "                        'Fuel Consumption(Comb (L/100 km))':\"Fuel_Consumption_Comb_L_100_km\",\n",
    "                        'Fuel Consumption(Comb (mpg))':\"Fuel_Consumption_Comb_mpg\",\n",
    "                        'CO2 Emissions(g/km)':\"CO2_Emissions_g_km\",\n",
    "                        'CO2 Rating':\"CO2_Rating\",\n",
    "                        'Smog Rating':\"Smog_Rating\"},inplace=True)"
   ]
  },
  {
   "cell_type": "code",
   "execution_count": null,
   "id": "2eef43b3",
   "metadata": {},
   "outputs": [],
   "source": [
    "rawdata.head()"
   ]
  },
  {
   "cell_type": "markdown",
   "id": "404a8955",
   "metadata": {},
   "source": [
    "* Data is valid, belongs to make\n",
    "* replacing Special characters  \n",
    "    - we will be using replace method in pandas\n",
    "\n",
    "            str.replace -  will be used to replace any character in string\n",
    "            replace -  will be used to replace entire string"
   ]
  },
  {
   "cell_type": "markdown",
   "id": "242977b7",
   "metadata": {},
   "source": [
    "**Make**"
   ]
  },
  {
   "cell_type": "code",
   "execution_count": null,
   "id": "24bfbc5a",
   "metadata": {},
   "outputs": [],
   "source": [
    "rawdata.Make = rawdata.Make.str.replace(\"-\",\"_\").str.replace(\" \",\"_\")"
   ]
  },
  {
   "cell_type": "code",
   "execution_count": null,
   "id": "d4215333",
   "metadata": {},
   "outputs": [],
   "source": [
    "rawdata.Make.unique(),rawdata.Make.nunique(),rawdata.Make.dtype"
   ]
  },
  {
   "cell_type": "markdown",
   "id": "792840c7",
   "metadata": {},
   "source": [
    "* Data is valid\n",
    "* Replace the Special charcters in the Make column."
   ]
  },
  {
   "cell_type": "markdown",
   "id": "a6d1f993",
   "metadata": {},
   "source": [
    "**Model**"
   ]
  },
  {
   "cell_type": "code",
   "execution_count": null,
   "id": "b06379bb",
   "metadata": {},
   "outputs": [],
   "source": [
    "rawdata.Model = rawdata.Model.str.replace(\" \", \"_\").str.replace(\"-\",\"_\").str.strip(\"()\").str.replace(\"+\", \"_\").str.replace(\"/\",\"_\")"
   ]
  },
  {
   "cell_type": "code",
   "execution_count": null,
   "id": "c4544b94",
   "metadata": {},
   "outputs": [],
   "source": [
    "rawdata.Model.unique(),rawdata.Model.nunique(),rawdata.Model.dtype"
   ]
  },
  {
   "cell_type": "code",
   "execution_count": null,
   "id": "20c26e3f",
   "metadata": {},
   "outputs": [],
   "source": [
    "rawdata.Model.unique()"
   ]
  },
  {
   "cell_type": "markdown",
   "id": "8a4ab1f0",
   "metadata": {},
   "source": [
    "* Data is valid\n",
    "* Replace the Special charcters in the Model column"
   ]
  },
  {
   "cell_type": "markdown",
   "id": "3e6a6c14",
   "metadata": {},
   "source": [
    "**Vehicle_Class**"
   ]
  },
  {
   "cell_type": "code",
   "execution_count": null,
   "id": "ab585da8",
   "metadata": {
    "scrolled": true
   },
   "outputs": [],
   "source": [
    "rawdata.Vehicle_Class = rawdata.Vehicle_Class.str.replace(\":\",\"_\").str.replace(\"-\",\"_\")"
   ]
  },
  {
   "cell_type": "code",
   "execution_count": null,
   "id": "d0f4a2e1",
   "metadata": {},
   "outputs": [],
   "source": [
    "rawdata.Vehicle_Class.unique(),rawdata.Vehicle_Class.nunique(),rawdata.Vehicle_Class.dtype"
   ]
  },
  {
   "cell_type": "markdown",
   "id": "1875fe86",
   "metadata": {},
   "source": [
    "* Data is valid\n",
    "* Replace the Special charcters and also replace the column data properly in the Vehicle_Class."
   ]
  },
  {
   "cell_type": "markdown",
   "id": "bbe7e8e0",
   "metadata": {},
   "source": [
    "**Transmission**"
   ]
  },
  {
   "cell_type": "code",
   "execution_count": null,
   "id": "dd5129de",
   "metadata": {},
   "outputs": [],
   "source": [
    "rawdata.Transmission.replace({\"am8\":\"Automated manual8\",\"as10\":\"Automatic with select shift10\",\n",
    "                              \"a8\":\"Automatic8\",\"a9\":\"Automated9\",\"am7\":\"Automated manual7\",\n",
    "                              \"as8\":\"Automatic with select shift8\",\"m6\":\"Manual6\",\n",
    "                              \"as6\":\"Automatic with select shift6\",\"av\":\"Continuously variable\",\n",
    "                              \"as9\":\"Automatic with select shift9\",\"a10\":\"Automated10\",\n",
    "                              \"a6\":\"Automated6\",\"m5\":\"Manual5\",\n",
    "                              \"m7\":\"Manual7\",\"av7\":\"Continuously variable7\",\n",
    "                              \"av1\":\"Continuously variable1\",\"am6\":\"Automated manual6\",\n",
    "                              \"as7\":\"Automaticwith select shift7\",\"av8\":\"Continuously variable8\",\n",
    "                              \"av6\":\"Continuously variable6\",\"av10\":\"Continuously variable10\",\n",
    "                              \"as5\":\"Automatic with select shift5\",\"a7\":\"Automated7\"},inplace = True)"
   ]
  },
  {
   "cell_type": "code",
   "execution_count": null,
   "id": "48a33b7c",
   "metadata": {},
   "outputs": [],
   "source": [
    "rawdata.Transmission = rawdata.Transmission.str.replace(\" \",\"_\")"
   ]
  },
  {
   "cell_type": "code",
   "execution_count": null,
   "id": "1e791b8d",
   "metadata": {},
   "outputs": [],
   "source": [
    "rawdata.Transmission.unique(),rawdata.Transmission.nunique(),rawdata.Transmission.dtype"
   ]
  },
  {
   "cell_type": "markdown",
   "id": "5ea2b5bf",
   "metadata": {},
   "source": [
    "* Data is valid\n",
    "* Replace the Special charcters and also replace the column data properly in the Transmission."
   ]
  },
  {
   "cell_type": "markdown",
   "id": "a258d362",
   "metadata": {},
   "source": [
    "**Fuel_Type**"
   ]
  },
  {
   "cell_type": "code",
   "execution_count": null,
   "id": "88dcdd7d",
   "metadata": {},
   "outputs": [],
   "source": [
    "rawdata.Fuel_Type = rawdata.Fuel_Type.str.replace(\" \",\"_\")"
   ]
  },
  {
   "cell_type": "code",
   "execution_count": null,
   "id": "ae1018ea",
   "metadata": {},
   "outputs": [],
   "source": [
    "rawdata.Fuel_Type.unique(),rawdata.Fuel_Type.nunique(),rawdata.Fuel_Type.dtype"
   ]
  },
  {
   "cell_type": "code",
   "execution_count": null,
   "id": "2473ab51",
   "metadata": {},
   "outputs": [],
   "source": [
    "rawdata.Fuel_Type.replace({\"z\":\"Premium_gasoline\",\n",
    "                              \"x\":\"Regular_gasoline\",\n",
    "                              \"d\":\"Diesel\",\n",
    "                              \"e\":\"E85\"},inplace = True)"
   ]
  },
  {
   "cell_type": "code",
   "execution_count": null,
   "id": "f5ef5062",
   "metadata": {},
   "outputs": [],
   "source": [
    "rawdata.Fuel_Type.unique()"
   ]
  },
  {
   "cell_type": "markdown",
   "id": "bde161de",
   "metadata": {},
   "source": [
    "* Data is valid\n",
    "* Replace the Special charcters and also replace the column data properly."
   ]
  },
  {
   "cell_type": "markdown",
   "id": "12142147",
   "metadata": {},
   "source": [
    "**Cylinders**"
   ]
  },
  {
   "cell_type": "code",
   "execution_count": null,
   "id": "d6128df0",
   "metadata": {},
   "outputs": [],
   "source": [
    "rawdata.Cylinders.unique(),rawdata.Cylinders.nunique(),rawdata.Cylinders.dtype"
   ]
  },
  {
   "cell_type": "markdown",
   "id": "8dde460b",
   "metadata": {},
   "source": [
    "**Fuel_Consumption_City_L_100_km**"
   ]
  },
  {
   "cell_type": "code",
   "execution_count": null,
   "id": "5becac6b",
   "metadata": {
    "scrolled": true
   },
   "outputs": [],
   "source": [
    "rawdata.Fuel_Consumption_City_L_100_km.unique(),rawdata.Fuel_Consumption_City_L_100_km.nunique(),rawdata.Fuel_Consumption_City_L_100_km.dtype"
   ]
  },
  {
   "cell_type": "markdown",
   "id": "b5c1817b",
   "metadata": {},
   "source": [
    "**Fuel_Consumption_Hwy_L_100_km**"
   ]
  },
  {
   "cell_type": "code",
   "execution_count": null,
   "id": "f1e19b47",
   "metadata": {},
   "outputs": [],
   "source": [
    "rawdata.Fuel_Consumption_Hwy_L_100_km.unique(),rawdata.Fuel_Consumption_Hwy_L_100_km.nunique(),rawdata.Fuel_Consumption_Hwy_L_100_km.dtype"
   ]
  },
  {
   "cell_type": "markdown",
   "id": "cebfafa9",
   "metadata": {},
   "source": [
    "**Fuel_Consumption_Comb_L_100_km**"
   ]
  },
  {
   "cell_type": "code",
   "execution_count": null,
   "id": "f334d9cf",
   "metadata": {},
   "outputs": [],
   "source": [
    "rawdata.Fuel_Consumption_Comb_L_100_km.unique(),rawdata.Fuel_Consumption_Comb_L_100_km.nunique(),rawdata.Fuel_Consumption_Comb_L_100_km.dtype"
   ]
  },
  {
   "cell_type": "markdown",
   "id": "723b5a60",
   "metadata": {},
   "source": [
    "**Fuel_Consumption_Comb_mpg**"
   ]
  },
  {
   "cell_type": "code",
   "execution_count": null,
   "id": "86329191",
   "metadata": {},
   "outputs": [],
   "source": [
    "rawdata.Fuel_Consumption_Comb_mpg.unique(),rawdata.Fuel_Consumption_Comb_mpg.nunique(),rawdata.Fuel_Consumption_Comb_mpg.dtype"
   ]
  },
  {
   "cell_type": "markdown",
   "id": "77dd5b28",
   "metadata": {},
   "source": [
    "**CO2_Emissions_g_km**"
   ]
  },
  {
   "cell_type": "code",
   "execution_count": null,
   "id": "79684a13",
   "metadata": {
    "scrolled": true
   },
   "outputs": [],
   "source": [
    "rawdata.CO2_Emissions_g_km.unique(),rawdata.CO2_Emissions_g_km.nunique(),rawdata.CO2_Emissions_g_km.dtype"
   ]
  },
  {
   "cell_type": "markdown",
   "id": "1b99e495",
   "metadata": {},
   "source": [
    "**CO2_Rating**"
   ]
  },
  {
   "cell_type": "code",
   "execution_count": null,
   "id": "2fe954ea",
   "metadata": {},
   "outputs": [],
   "source": [
    "rawdata.CO2_Rating.unique(),rawdata.CO2_Rating.nunique(),rawdata.CO2_Rating.dtype"
   ]
  },
  {
   "cell_type": "markdown",
   "id": "aa743e23",
   "metadata": {},
   "source": [
    "**Smog_Rating**"
   ]
  },
  {
   "cell_type": "code",
   "execution_count": null,
   "id": "8ca235a1",
   "metadata": {},
   "outputs": [],
   "source": [
    "rawdata.Smog_Rating.unique(),rawdata.Smog_Rating.nunique(),rawdata.Smog_Rating.dtype"
   ]
  },
  {
   "cell_type": "code",
   "execution_count": null,
   "id": "a0fc13fa",
   "metadata": {},
   "outputs": [],
   "source": [
    "rawdata.head(5)"
   ]
  },
  {
   "cell_type": "code",
   "execution_count": null,
   "id": "35b77b4c",
   "metadata": {},
   "outputs": [],
   "source": []
  },
  {
   "cell_type": "markdown",
   "id": "faaf362f",
   "metadata": {},
   "source": [
    "### Data Understanding  \n",
    "## 2. EDA (Exploratory Data Analysis): <a id='eda'>"
   ]
  },
  {
   "cell_type": "markdown",
   "id": "2a6ab677",
   "metadata": {},
   "source": [
    "[Back to Top](#menu)\n",
    "* We can get insights on dataset using Exploratory Data Analysis (EDA) methods\n",
    "\n",
    "* EDA can be of two things, \n",
    "    - Statistics\n",
    "        - Descriptive\n",
    "        - Inferential\n",
    "    - Visual Analysis"
   ]
  },
  {
   "cell_type": "code",
   "execution_count": null,
   "id": "d195feec",
   "metadata": {},
   "outputs": [],
   "source": [
    "rawdata.head()"
   ]
  },
  {
   "cell_type": "markdown",
   "id": "e3ba90a7",
   "metadata": {},
   "source": [
    "**Understanding Column Data Types in stats point of view**"
   ]
  },
  {
   "cell_type": "code",
   "execution_count": null,
   "id": "f951117e",
   "metadata": {},
   "outputs": [],
   "source": [
    "rawdata.dtypes"
   ]
  },
  {
   "cell_type": "markdown",
   "id": "15f8e577",
   "metadata": {},
   "source": [
    "**Numerical and Categorical data**\n",
    "\n",
    "Numerical(Quantitative) | Categorical(Qualitative)\n",
    "--|---------------------\n",
    "Engine_Size_L | Make\n",
    "Cylinders|Model\n",
    "Fuel_Consumption_City_L_100_km| Vehicle_Class\n",
    "Fuel_Consumption_Hwy_L_100_km| Transmission\n",
    "Fuel_Consumption_Comb_L_100_km| Fuel_Type\n",
    "Fuel_Consumption_Comb_mpg|-\n",
    "CO2_Emissions_g_km|-  \n",
    "CO2_Rating |-\n",
    "Smog_Rating|-"
   ]
  },
  {
   "cell_type": "markdown",
   "id": "bf710407",
   "metadata": {},
   "source": [
    "* Columns for analysis\n",
    "    * Vehicle:\n",
    "        - 'Make', 'Model', 'Vehicle_Class', 'Cylinders', 'Transmission','Engine_Size'\n",
    "    * Fuel:\n",
    "        - 'Fuel_Consumption_(City)','Fuel_Consumption_(Highway)','Fuel_Consumption_(Comb)','Fuel_Consumption_(Comb)(mpg)' \n",
    "    * Gas\n",
    "        - 'CO2_Emission'\n",
    "    * Rating\n",
    "        - 'CO2_Rating','Smog_Rating'\t\t\n"
   ]
  },
  {
   "cell_type": "markdown",
   "id": "64736b56",
   "metadata": {},
   "source": [
    "**When we have input and ouput variables mentioned,**\n",
    "\n",
    "* Taking important input columns to analysis with reference to the output variable is suggested for analysis.\n",
    "\n",
    "**For this data we have output variable Fuel_Consumption_Comb_L_100_km , so**\n",
    "\n",
    "* All the Columns are using for analysis"
   ]
  },
  {
   "cell_type": "markdown",
   "id": "21d78cb8",
   "metadata": {},
   "source": [
    "### Analysis"
   ]
  },
  {
   "cell_type": "markdown",
   "id": "51e2cc67",
   "metadata": {},
   "source": [
    "EDA is divided into three types of analysis\n",
    "\n",
    "\n",
    "Uni-Variate|Bi-Variate|Multi-Variate\n",
    "---|---|----\n",
    "Data study of single column|Data study between two columns|Data Study b/w three or more columns"
   ]
  },
  {
   "attachments": {
    "image.png": {
     "image/png": "[encoded data removed]"
    }
   },
   "cell_type": "markdown",
   "id": "249026c1",
   "metadata": {},
   "source": [
    "![image.png](attachment:image.png)"
   ]
  },
  {
   "cell_type": "code",
   "execution_count": null,
   "id": "b29f9a75",
   "metadata": {},
   "outputs": [],
   "source": [
    "rawdata.info()"
   ]
  },
  {
   "cell_type": "code",
   "execution_count": null,
   "id": "51dae0e3",
   "metadata": {},
   "outputs": [],
   "source": [
    "rawdata.columns, rawdata.dtypes"
   ]
  },
  {
   "cell_type": "code",
   "execution_count": null,
   "id": "0f9e1b24",
   "metadata": {},
   "outputs": [],
   "source": [
    "rawdata.Fuel_Consumption_Comb_L_100_km.describe()"
   ]
  },
  {
   "cell_type": "code",
   "execution_count": null,
   "id": "29fc707b",
   "metadata": {},
   "outputs": [],
   "source": [
    "rawdata.Fuel_Consumption_Comb_L_100_km.value_counts(),rawdata.Fuel_Consumption_Comb_L_100_km.median(),rawdata.Fuel_Consumption_Comb_L_100_km.unique(),rawdata.Fuel_Consumption_Comb_L_100_km.nunique()"
   ]
  },
  {
   "cell_type": "code",
   "execution_count": null,
   "id": "861031e2",
   "metadata": {},
   "outputs": [],
   "source": [
    "rawdata.Fuel_Consumption_Comb_L_100_km.mean(), rawdata.Fuel_Consumption_Comb_L_100_km.median(), rawdata.Fuel_Consumption_Comb_L_100_km.std()"
   ]
  },
  {
   "cell_type": "markdown",
   "id": "b43110a9",
   "metadata": {},
   "source": [
    "**Uni-Variate analysis on Categorical** "
   ]
  },
  {
   "cell_type": "code",
   "execution_count": null,
   "id": "ce3beb73",
   "metadata": {},
   "outputs": [],
   "source": [
    "rawdata.Make.value_counts(),rawdata.Make.mode()"
   ]
  },
  {
   "cell_type": "code",
   "execution_count": null,
   "id": "b2a2e426",
   "metadata": {},
   "outputs": [],
   "source": [
    "plt.figure(figsize=(6,3))\n",
    "rawdata['Make'].value_counts().plot(kind='bar')\n",
    "plt.show()"
   ]
  },
  {
   "cell_type": "code",
   "execution_count": null,
   "id": "34af4e6b",
   "metadata": {
    "scrolled": true
   },
   "outputs": [],
   "source": [
    "rawdata.Vehicle_Class.value_counts(),rawdata.Vehicle_Class.mode()"
   ]
  },
  {
   "cell_type": "code",
   "execution_count": null,
   "id": "e52dcf89",
   "metadata": {},
   "outputs": [],
   "source": [
    "plt.figure(figsize=(8,3))\n",
    "rawdata['Vehicle_Class'].value_counts().plot(kind='pie')\n",
    "plt.show()"
   ]
  },
  {
   "cell_type": "code",
   "execution_count": null,
   "id": "e73dc929",
   "metadata": {},
   "outputs": [],
   "source": [
    "rawdata.Transmission.value_counts(),rawdata.Transmission.mode()"
   ]
  },
  {
   "cell_type": "code",
   "execution_count": null,
   "id": "fd5e208c",
   "metadata": {},
   "outputs": [],
   "source": [
    "plt.figure(figsize=(6,4))\n",
    "rawdata['Transmission'].value_counts().plot(kind='bar')\n",
    "plt.show()"
   ]
  },
  {
   "cell_type": "code",
   "execution_count": null,
   "id": "5a3c8ecf",
   "metadata": {},
   "outputs": [],
   "source": [
    "rawdata.Fuel_Type.value_counts(),rawdata.Fuel_Type.mode()"
   ]
  },
  {
   "cell_type": "code",
   "execution_count": null,
   "id": "48eb346b",
   "metadata": {},
   "outputs": [],
   "source": [
    "plt.figure(figsize=(6,3))\n",
    "rawdata['Fuel_Type'].value_counts().plot(kind='pie')\n",
    "plt.show()"
   ]
  },
  {
   "cell_type": "markdown",
   "id": "3c924e49",
   "metadata": {},
   "source": [
    "**Complete uni-variate Analysis**"
   ]
  },
  {
   "cell_type": "code",
   "execution_count": null,
   "id": "2836f411",
   "metadata": {},
   "outputs": [],
   "source": [
    "from simple_colors import *\n",
    "\n",
    "for i in rawdata.columns:\n",
    "    if rawdata[i].dtype == 'object' or rawdata[i].dtype == 'int32' or rawdata[i].dtype == 'int64':\n",
    "        print()\n",
    "        print(cyan(\"Categorical/Numeric Discrete Column:\", ['bold']), i)\n",
    "        print(\"=====================================================\")\n",
    "        print(green(\"Uni-Variate Descriptive Stats:\", ['bold']))\n",
    "        print(black(\"Classes:\", ['bold']), rawdata[i].unique())\n",
    "        print(black(\"Number of Classes:\", ['bold']), rawdata[i].nunique())\n",
    "        print(black(\"Value Counts of each class:\", ['bold']),rawdata[i].value_counts())\n",
    "        print(black('Class Percent:', ['bold']))\n",
    "        print((rawdata[i].value_counts() / rawdata[i].value_counts().sum()) * 100)\n",
    "        print(\"---------------------------------------------------\")\n",
    "        print(black(\"Mode Value:\", ['bold']), rawdata[i].mode()[0])\n",
    "        if rawdata[i].nunique() <= 10:\n",
    "            print()\n",
    "            print(magenta(\"Visual Analysis:\", ['bold']))\n",
    "            print(\"-----------------------------------------------------\")\n",
    "            plt.figure(figsize=(8, 3))\n",
    "            rawdata[i].value_counts().plot(kind='pie')\n",
    "            plt.show()\n",
    "\n",
    "    elif rawdata[i].dtype != 'object':\n",
    "        print()\n",
    "        print(blue(\"Numerical Column:\", ['bold']), i)\n",
    "        print(\"=====================================================\")\n",
    "        print(green(\"Uni-Variate Descriptive Stats:\", ['bold']))\n",
    "        print(round(rawdata[i].describe(), ))\n",
    "        print(\"-----------------------------------------------------\")\n",
    "        print(black(\"Skewness & Kurtosis:\", ['bold']), rawdata[i].skew(), \",\",\n",
    "              rawdata[i].kurt())\n",
    "        print()\n",
    "        print(cyan(\"Visual Analysis:\", ['bold']))\n",
    "        print(\"-----------------------------------------------------\")\n",
    "        plt.figure(figsize=(8, 6))\n",
    "        sns.distplot(rawdata[i])\n",
    "        \n",
    "        #data[i].plot(kind = 'density')\n",
    "        \n",
    "        plt.show()"
   ]
  },
  {
   "cell_type": "code",
   "execution_count": null,
   "id": "521193df",
   "metadata": {},
   "outputs": [],
   "source": []
  },
  {
   "cell_type": "markdown",
   "id": "a6f180f9",
   "metadata": {},
   "source": [
    "**Uni-Variate analysis** \n",
    "\n",
    "**On Numerical columns**"
   ]
  },
  {
   "cell_type": "code",
   "execution_count": null,
   "id": "f000e772",
   "metadata": {
    "scrolled": true
   },
   "outputs": [],
   "source": [
    "rawdata['Cylinders'].describe(),rawdata['Cylinders'].skew(),rawdata['Cylinders'].kurtosis()"
   ]
  },
  {
   "cell_type": "code",
   "execution_count": null,
   "id": "6cffc9bf",
   "metadata": {
    "scrolled": true
   },
   "outputs": [],
   "source": [
    "rawdata.Cylinders.plot(kind='box',title='Boxplot of price',ylabel='Cylinders',figsize=(3,2))"
   ]
  },
  {
   "cell_type": "code",
   "execution_count": null,
   "id": "0a617f3d",
   "metadata": {},
   "outputs": [],
   "source": [
    "rawdata['Fuel_Consumption_City_L_100_km'].describe(),rawdata['Fuel_Consumption_City_L_100_km'].skew(),rawdata['Fuel_Consumption_City_L_100_km'].kurtosis()"
   ]
  },
  {
   "cell_type": "code",
   "execution_count": null,
   "id": "e47f30ae",
   "metadata": {},
   "outputs": [],
   "source": [
    "rawdata.Fuel_Consumption_City_L_100_km.plot(kind = 'hist',color='Salmon')"
   ]
  },
  {
   "cell_type": "code",
   "execution_count": null,
   "id": "405033ff",
   "metadata": {},
   "outputs": [],
   "source": [
    "rawdata['Fuel_Consumption_Hwy_L_100_km'].describe(),rawdata['Fuel_Consumption_Hwy_L_100_km'].skew(),rawdata['Fuel_Consumption_Hwy_L_100_km'].kurtosis()"
   ]
  },
  {
   "cell_type": "code",
   "execution_count": null,
   "id": "94216968",
   "metadata": {},
   "outputs": [],
   "source": [
    "rawdata.Fuel_Consumption_Hwy_L_100_km.plot(kind='density')"
   ]
  },
  {
   "cell_type": "code",
   "execution_count": null,
   "id": "8a850059",
   "metadata": {},
   "outputs": [],
   "source": [
    "rawdata['Fuel_Consumption_Comb_L_100_km'].describe(),rawdata['Fuel_Consumption_Comb_L_100_km'].skew(),rawdata['Fuel_Consumption_Comb_L_100_km'].kurtosis()"
   ]
  },
  {
   "cell_type": "code",
   "execution_count": null,
   "id": "6173eb74",
   "metadata": {},
   "outputs": [],
   "source": [
    "plt.figure(figsize=(8, 4))\n",
    "sns.distplot(rawdata['Fuel_Consumption_Comb_L_100_km'])\n",
    "rawdata['Fuel_Consumption_Comb_L_100_km'].plot(kind = 'density')\n",
    "plt.show()"
   ]
  },
  {
   "cell_type": "code",
   "execution_count": null,
   "id": "aec1bf13",
   "metadata": {},
   "outputs": [],
   "source": [
    "rawdata['Fuel_Consumption_Comb_mpg'].describe(),rawdata['Fuel_Consumption_Comb_mpg'].skew(),rawdata['Fuel_Consumption_Comb_mpg'].kurtosis()"
   ]
  },
  {
   "cell_type": "code",
   "execution_count": null,
   "id": "559651f0",
   "metadata": {},
   "outputs": [],
   "source": [
    "rawdata.Fuel_Consumption_Comb_mpg.plot(kind='box',ylabel='Fuel_Consumption_Comb_mpg')"
   ]
  },
  {
   "cell_type": "code",
   "execution_count": null,
   "id": "1e6a35b2",
   "metadata": {},
   "outputs": [],
   "source": [
    "rawdata['CO2_Emissions_g_km'].describe(),rawdata['CO2_Emissions_g_km'].skew(),rawdata['CO2_Emissions_g_km'].kurtosis()"
   ]
  },
  {
   "cell_type": "code",
   "execution_count": null,
   "id": "27015682",
   "metadata": {},
   "outputs": [],
   "source": [
    "rawdata.CO2_Emissions_g_km.plot(kind='density',ylabel='CO2_Emissions_g_km')"
   ]
  },
  {
   "cell_type": "code",
   "execution_count": null,
   "id": "d684664d",
   "metadata": {},
   "outputs": [],
   "source": [
    "rawdata['CO2_Rating'].describe(),rawdata['CO2_Rating'].skew(),rawdata['CO2_Rating'].kurtosis()"
   ]
  },
  {
   "cell_type": "code",
   "execution_count": null,
   "id": "1a8cbd8d",
   "metadata": {},
   "outputs": [],
   "source": [
    "plt.figure(figsize=(8, 3))\n",
    "sns.distplot(rawdata['CO2_Rating'])\n",
    "rawdata['CO2_Rating'].plot(kind = 'density')\n",
    "plt.show()"
   ]
  },
  {
   "cell_type": "code",
   "execution_count": null,
   "id": "c350e75b",
   "metadata": {},
   "outputs": [],
   "source": [
    "rawdata['Smog_Rating'].describe(),rawdata['Smog_Rating'].skew(),rawdata['Smog_Rating'].kurtosis()"
   ]
  },
  {
   "cell_type": "code",
   "execution_count": null,
   "id": "38985d45",
   "metadata": {},
   "outputs": [],
   "source": [
    "plt.figure(figsize=(8, 3))\n",
    "sns.distplot(rawdata['Smog_Rating'])\n",
    "rawdata['Smog_Rating'].plot(kind = 'density')\n",
    "plt.show()"
   ]
  },
  {
   "cell_type": "markdown",
   "id": "85df6dad",
   "metadata": {},
   "source": [
    "**Bi-Variate analysis on N-N**\n",
    "\n",
    "**Data Study between two columns**"
   ]
  },
  {
   "attachments": {
    "image.png": {
     "image/png": "[encoded data removed]"
    }
   },
   "cell_type": "markdown",
   "id": "4361971d",
   "metadata": {},
   "source": [
    "![image.png](attachment:image.png)"
   ]
  },
  {
   "cell_type": "markdown",
   "id": "a39df59a",
   "metadata": {},
   "source": [
    "**Numerical to Numerical**"
   ]
  },
  {
   "cell_type": "code",
   "execution_count": null,
   "id": "454eabde",
   "metadata": {},
   "outputs": [],
   "source": [
    "rawdata.head()"
   ]
  },
  {
   "cell_type": "code",
   "execution_count": null,
   "id": "4d1d5435",
   "metadata": {},
   "outputs": [],
   "source": [
    "rawdata[['Fuel_Consumption_City_L_100_km', 'Fuel_Consumption_Comb_L_100_km']].corr()"
   ]
  },
  {
   "cell_type": "code",
   "execution_count": null,
   "id": "a5c0bb32",
   "metadata": {},
   "outputs": [],
   "source": [
    "sns.scatterplot(rawdata, x='Fuel_Consumption_City_L_100_km', y='Fuel_Consumption_Comb_L_100_km')"
   ]
  },
  {
   "cell_type": "code",
   "execution_count": null,
   "id": "6d8c747c",
   "metadata": {
    "scrolled": true
   },
   "outputs": [],
   "source": [
    "rawdata[['Fuel_Consumption_Hwy_L_100_km', 'Fuel_Consumption_Comb_L_100_km']].corr()"
   ]
  },
  {
   "cell_type": "code",
   "execution_count": null,
   "id": "9bb2e714",
   "metadata": {},
   "outputs": [],
   "source": [
    "sns.scatterplot(rawdata, x='Fuel_Consumption_Hwy_L_100_km', y='Fuel_Consumption_Comb_L_100_km')"
   ]
  },
  {
   "cell_type": "code",
   "execution_count": null,
   "id": "1665c722",
   "metadata": {},
   "outputs": [],
   "source": [
    "rawdata[['CO2_Rating', 'Fuel_Consumption_Comb_L_100_km']].corr()"
   ]
  },
  {
   "cell_type": "code",
   "execution_count": null,
   "id": "b205e0bb",
   "metadata": {},
   "outputs": [],
   "source": [
    "sns.scatterplot(rawdata, x='CO2_Rating', y='Fuel_Consumption_Comb_L_100_km')"
   ]
  },
  {
   "cell_type": "markdown",
   "id": "ef15a1b9",
   "metadata": {},
   "source": [
    "**Numerical - categorical**"
   ]
  },
  {
   "cell_type": "code",
   "execution_count": null,
   "id": "97ef158b",
   "metadata": {},
   "outputs": [],
   "source": [
    "rawdata.head(2)"
   ]
  },
  {
   "cell_type": "code",
   "execution_count": null,
   "id": "0789f94c",
   "metadata": {},
   "outputs": [],
   "source": [
    "((rawdata.groupby(\"Make\")['Fuel_Consumption_Comb_L_100_km'].mean()/len(rawdata))*100).sort_values(ascending  = False)"
   ]
  },
  {
   "cell_type": "code",
   "execution_count": null,
   "id": "afe28dfa",
   "metadata": {},
   "outputs": [],
   "source": [
    "sns.barplot(y = rawdata.groupby('Make')['Fuel_Consumption_Comb_L_100_km'].mean().sort_values(\n",
    "    ascending=False).index[0:26],\n",
    "            x = rawdata.groupby('Make')['Fuel_Consumption_Comb_L_100_km'].mean().sort_values(\n",
    "                ascending=False).values[0:26],\n",
    "            orient ='h')"
   ]
  },
  {
   "cell_type": "code",
   "execution_count": null,
   "id": "94a21777",
   "metadata": {},
   "outputs": [],
   "source": [
    "((rawdata.groupby(\"Transmission\")['Fuel_Consumption_Comb_L_100_km'].mean()/len(rawdata))*100).sort_values(ascending  = False)"
   ]
  },
  {
   "cell_type": "code",
   "execution_count": null,
   "id": "dadc3e06",
   "metadata": {},
   "outputs": [],
   "source": [
    "sns.barplot(y = rawdata.groupby('Transmission')['Fuel_Consumption_Comb_L_100_km'].mean().sort_values(\n",
    "    ascending=False).index[0:9],\n",
    "            x = rawdata.groupby('Transmission')['Fuel_Consumption_Comb_L_100_km'].mean().sort_values(\n",
    "                ascending=False).values[0:9],\n",
    "            orient ='h')"
   ]
  },
  {
   "cell_type": "code",
   "execution_count": null,
   "id": "8015d347",
   "metadata": {},
   "outputs": [],
   "source": [
    "((rawdata.groupby(\"Vehicle_Class\")['Fuel_Consumption_Comb_L_100_km'].mean()/len(rawdata))*100).sort_values(ascending  = False)"
   ]
  },
  {
   "cell_type": "code",
   "execution_count": null,
   "id": "49baf10c",
   "metadata": {
    "scrolled": true
   },
   "outputs": [],
   "source": [
    "sns.catplot(y='Vehicle_Class', x ='Fuel_Consumption_Comb_L_100_km', data = rawdata, orient='h')"
   ]
  },
  {
   "cell_type": "code",
   "execution_count": null,
   "id": "eafe12c3",
   "metadata": {},
   "outputs": [],
   "source": [
    "rawdata.corr() "
   ]
  },
  {
   "cell_type": "code",
   "execution_count": null,
   "id": "fecdaac7",
   "metadata": {},
   "outputs": [],
   "source": [
    "sns.heatmap(rawdata.corr(),annot = True)"
   ]
  },
  {
   "cell_type": "markdown",
   "id": "42d5cdbf",
   "metadata": {},
   "source": [
    "**Categorical to Categorical**"
   ]
  },
  {
   "cell_type": "code",
   "execution_count": null,
   "id": "5c4b7e10",
   "metadata": {},
   "outputs": [],
   "source": [
    "rawdata.head(2)"
   ]
  },
  {
   "cell_type": "code",
   "execution_count": null,
   "id": "b8af8a36",
   "metadata": {
    "scrolled": true
   },
   "outputs": [],
   "source": [
    "pd.crosstab(rawdata.Transmission,rawdata.Fuel_Type, margins=True)"
   ]
  },
  {
   "cell_type": "code",
   "execution_count": null,
   "id": "f88edce4",
   "metadata": {
    "scrolled": true
   },
   "outputs": [],
   "source": [
    "plt.figure(figsize=(6, 5))\n",
    "sns.countplot(y='Transmission', hue='Fuel_Type', data = rawdata)"
   ]
  },
  {
   "cell_type": "markdown",
   "id": "cdbb567e",
   "metadata": {},
   "source": [
    "### Overall Insights on data\n",
    "#### The provided Exploratory Data Analysis (EDA), here are several insights derived from the analysis of the Fuel_consumption dataset:"
   ]
  },
  {
   "cell_type": "markdown",
   "id": "1b91f6c2",
   "metadata": {},
   "source": [
    "* Ford has highest value counts in make\n",
    "* Suv_small has highest value counts in the Vehicle class \n",
    "* Automatic with select shift8 has the highest value counts in the Transmission\n",
    "* Premium gasoline has the highest value counts in the Fuel type\n",
    "* Ford has highest value counts with 89 and fiat has least value counts with 1\n",
    "* Suv small occupies 20% of the data and minivan occupies 0.7% of the data\n",
    "* Engine_size_L has minimum 1 and maximum 8 \n",
    "* Engine_size_L has postive skewness\n",
    "* Most vehicles have 4 cylinders with a value count of 404 with percentage of 42%.\n",
    "* Automatic_with_select_shift8 transmission leads with 212 value count with percentage of 22%.\n",
    "* Fuel_type premium_gasoline have highest value counts of 458 with a percentage 48%.\n",
    "* Fuel_Consumption_City_L_100_km of a vehicle minimum's at 4 and maximum's at 30.\n",
    "* Fuel_Consumption_Hwy_L_100_km of a vehicle minimum's at 4 and maximum's at 21.\n",
    "* Fuel_Consumption_Comb_L_100_km of a vehicle minimum's at 4 and maximum's at 26.\n",
    "* Fuel_Consumption_Comb_mpg of a vehicle with a value count of 69.\n",
    "* CO2_Emissions_g_km 275(g/km) with a value count of 15.\n",
    "* CO2_Rating of a vehicle has 5 rating with a value count of 266 with a percentage of 1.5%.\n",
    "* Smog_Rating of a vehicle has 5 rating with a value count of 308 with a percentage of 32%. \n",
    "* There are outliers in Cylinders column.\n",
    "* Fuel_Consumption_Hwy_L_100_km follows normal distribution\n",
    "* Fuel_Consumption_Comb_L_100_km follows normal distribution \n",
    "* There are outliers in Fuel_Consumption_Comb_mpg. \n",
    "* CO2_Emissions_g_km follows normal distribution\n",
    "* CO2_Rating Maximum density at 5\n",
    "* Smog_Rating Maximum density at 5\n",
    "* For Fuel_Consumption_City_L_100_km and Fuel_Consumption_Comb_L_100_km have 99% of correlation \n",
    "* For Fuel_Consumption_Hwy_L_100_km and Fuel_Consumption_Comb_L_100_km have 96% of correlation. \n",
    "* For CO2_Rating and Fuel_Consumption_Comb_L_100_km have -0.92 negative correlation occur\n",
    "* In Fuel_Consumption_Comb_L_100_km Bugatti has highest value\n",
    "* Automated6 has hightest in the Transmission and Fuel_Consumption_Comb_L_100_km\n",
    "* Two seater is more data in the Vehicle_Class and Fuel_Consumption_Comb_L_100_km\n",
    "* Automatic with select shift6 has hightest premium gasoline in the transmission"
   ]
  },
  {
   "cell_type": "markdown",
   "id": "583049cc",
   "metadata": {},
   "source": [
    "### Predictive Modelling<a id='pm'>\n",
    "[Back To Top](#menu)"
   ]
  },
  {
   "cell_type": "markdown",
   "id": "cc1d4edb",
   "metadata": {},
   "source": [
    "**Predictive modelling**\n",
    "    \n",
    "* Above data will be given to a machine learning model, where the model will be trained on column data Fuel_Consumption with other columns data.     \n",
    "    \n",
    "* predictive modeling is sending data to a algorithm as input columns(x) along with one output column data (y), training y data with x\n",
    "    \n",
    "    model: y~x -> y = f(x)+e"
   ]
  },
  {
   "cell_type": "markdown",
   "id": "c7673702",
   "metadata": {},
   "source": [
    "### 3. x , y <a id='xy'>\n",
    "[Back To Top](#menu)\n",
    "\n",
    "* This is the method where to identify according to business goal,output as y and x as input column \n"
   ]
  },
  {
   "cell_type": "code",
   "execution_count": null,
   "id": "02b62a7e",
   "metadata": {},
   "outputs": [],
   "source": [
    "# input column\n",
    "x = rawdata.drop('Fuel_Consumption_Comb_L_100_km',axis = 1) #storing input columns in X and dropping output column\n",
    "\n",
    "# output column \n",
    "y = rawdata['Fuel_Consumption_Comb_L_100_km'] #droped output column will be added to y"
   ]
  },
  {
   "cell_type": "markdown",
   "id": "4b17bf70",
   "metadata": {},
   "source": [
    "* We are predicting the Fuel_Consumption values, so the ouput column will be Fuel_Consumption_Comb_L_100_km, and remaining are input columns"
   ]
  },
  {
   "cell_type": "code",
   "execution_count": null,
   "id": "9f30a4d2",
   "metadata": {},
   "outputs": [],
   "source": [
    "x.shape,y.shape # After modifying checking shape of the data."
   ]
  },
  {
   "cell_type": "code",
   "execution_count": null,
   "id": "a5048f00",
   "metadata": {},
   "outputs": [],
   "source": [
    "x.head(2)"
   ]
  },
  {
   "cell_type": "code",
   "execution_count": null,
   "id": "4da14163",
   "metadata": {},
   "outputs": [],
   "source": [
    "y.head(2)"
   ]
  },
  {
   "cell_type": "markdown",
   "id": "cb7dd5a1",
   "metadata": {},
   "source": [
    "### 4. Feature Selection of X<a id='fsox'>\n",
    "[Back To Top](#menu)"
   ]
  },
  {
   "cell_type": "markdown",
   "id": "e115b36d",
   "metadata": {},
   "source": [
    "* This is method,according to business goal,checking taken input columns are important to our goal/model and if not important considering dropping of columns,for the modelling process. \n",
    "\n",
    "* Feature selection/Deletion\n",
    "\n",
    "The above step can be done through the help of EDA and Business decisions\n",
    "\n",
    "* Feature Modification (Changing the Values)\n",
    "* Feature Generation (Creating New Features)\n",
    "    - We have done some necessary feature modification in Validation Step\n",
    "    - We will be also doing some necessary steps in data pre-processing\n",
    "\n",
    "The above steps already taken in Data Validation"
   ]
  },
  {
   "cell_type": "code",
   "execution_count": null,
   "id": "e43b8a56",
   "metadata": {
    "scrolled": true
   },
   "outputs": [],
   "source": [
    "x.head(3)"
   ]
  },
  {
   "cell_type": "code",
   "execution_count": null,
   "id": "1e2d85a0",
   "metadata": {
    "scrolled": true
   },
   "outputs": [],
   "source": [
    "x.columns"
   ]
  },
  {
   "cell_type": "markdown",
   "id": "ae07bde4",
   "metadata": {},
   "source": [
    "* Model column is not important for modelling."
   ]
  },
  {
   "cell_type": "code",
   "execution_count": null,
   "id": "ffce2b52",
   "metadata": {},
   "outputs": [],
   "source": [
    "del x['Model']"
   ]
  },
  {
   "cell_type": "markdown",
   "id": "cf3bfe79",
   "metadata": {},
   "source": [
    "* Considering remaining all columns for modelling."
   ]
  },
  {
   "cell_type": "markdown",
   "id": "468292da",
   "metadata": {},
   "source": [
    "### 5. Train-Test Split<a id='tts'>\n",
    "[Back To Top](#menu)\n",
    "* This is a method where we divide data into 70:30 as train and test for x and ydata,predictive modelling \n",
    "* Dividing Data (x,y) into train and test (Data Validation)\n",
    "* for this we will use sklearn module\n",
    "* we can go with 70,30 or 80,20 or 75,25 ratios"
   ]
  },
  {
   "cell_type": "code",
   "execution_count": null,
   "id": "4ca3e1d1",
   "metadata": {},
   "outputs": [],
   "source": [
    "from sklearn.model_selection import train_test_split # Importing traintestsplit for modelselection"
   ]
  },
  {
   "cell_type": "code",
   "execution_count": null,
   "id": "45788e37",
   "metadata": {},
   "outputs": [],
   "source": [
    "xtrain, xtest, ytrain, ytest = train_test_split(x, y, test_size=0.30, random_state = 123) # randomstate used for not mismatching the data"
   ]
  },
  {
   "cell_type": "code",
   "execution_count": null,
   "id": "1b103caf",
   "metadata": {},
   "outputs": [],
   "source": [
    "xtrain.shape, xtest.shape, ytrain.shape, ytest.shape # Checeking shapes of the data as it is correctly trained or not"
   ]
  },
  {
   "cell_type": "code",
   "execution_count": null,
   "id": "dea60fb7",
   "metadata": {},
   "outputs": [],
   "source": [
    "xtrain = xtrain.reset_index(drop = True)\n",
    "xtest = xtest.reset_index(drop = True)\n",
    "ytrain = ytrain.reset_index(drop = True)\n",
    "ytest = ytest.reset_index(drop = True)\n",
    "# To set index in order after dividing data we use reset_index"
   ]
  },
  {
   "cell_type": "markdown",
   "id": "2569e84f",
   "metadata": {},
   "source": [
    "* xtrain, ytrain data is used for the training predictive model\n",
    "\n",
    "* xtest is used for the predictions , ytest is used for the comparissions"
   ]
  },
  {
   "cell_type": "markdown",
   "id": "296319cf",
   "metadata": {},
   "source": [
    "### 6. Na & Outliers of Train & Test <a id='nott'>\n",
    "[Back To Top](#menu)"
   ]
  },
  {
   "cell_type": "markdown",
   "id": "ac30c3c3",
   "metadata": {},
   "source": [
    "* Identifying missing values by isnull() function."
   ]
  },
  {
   "cell_type": "markdown",
   "id": "4cbd3945",
   "metadata": {},
   "source": [
    "**Checking Missing Values**"
   ]
  },
  {
   "cell_type": "code",
   "execution_count": null,
   "id": "9387ca99",
   "metadata": {},
   "outputs": [],
   "source": [
    "xtrain.isnull().sum()"
   ]
  },
  {
   "cell_type": "code",
   "execution_count": null,
   "id": "870b67b9",
   "metadata": {},
   "outputs": [],
   "source": [
    "xtest.isnull().sum()"
   ]
  },
  {
   "cell_type": "markdown",
   "id": "e3371d11",
   "metadata": {},
   "source": [
    "* There is no null values in the given data"
   ]
  },
  {
   "cell_type": "markdown",
   "id": "6877bec0",
   "metadata": {},
   "source": [
    "**Outliers Handling**"
   ]
  },
  {
   "cell_type": "code",
   "execution_count": null,
   "id": "e6c9d590",
   "metadata": {},
   "outputs": [],
   "source": [
    "plt.figure(figsize=(4,2))\n",
    "sns.boxplot(xtrain.Fuel_Consumption_City_L_100_km)"
   ]
  },
  {
   "cell_type": "markdown",
   "id": "9ee3060f",
   "metadata": {},
   "source": [
    "* In [Fuel_Consumption_City_L_100_km] column we have upper out liers."
   ]
  },
  {
   "cell_type": "code",
   "execution_count": null,
   "id": "2412fb03",
   "metadata": {},
   "outputs": [],
   "source": [
    "plt.figure(figsize=(4,2))\n",
    "sns.boxplot(xtrain.CO2_Rating)"
   ]
  },
  {
   "cell_type": "markdown",
   "id": "12c20bcb",
   "metadata": {},
   "source": [
    "* In [CO2_Rating] column we have upper out liers."
   ]
  },
  {
   "cell_type": "markdown",
   "id": "1dae4700",
   "metadata": {},
   "source": [
    "* The below code used for detecting outliers."
   ]
  },
  {
   "cell_type": "code",
   "execution_count": null,
   "id": "e3d51d59",
   "metadata": {},
   "outputs": [],
   "source": [
    "def outlier_detect(df):\n",
    "    for i in df.describe().columns:\n",
    "        print(\"Column:\",i)\n",
    "        print(\"------------------------------------------------\")\n",
    "        Q1 = df.describe().at['25%',i]\n",
    "        Q3 = df.describe().at['75%',i]\n",
    "        IQR = Q3 - Q1\n",
    "        LTV = Q1 - 1.5 * IQR\n",
    "        UTV = Q3 + 1.5 * IQR\n",
    "        print(\"Lower Outliers:\")\n",
    "        print()\n",
    "        lowerout = list(df[df[i]<LTV][i])\n",
    "        lowerout.sort()\n",
    "        print(lowerout)\n",
    "        print()        \n",
    "        print(\"Upper Outliers:\")\n",
    "        print()\n",
    "        upperout = list(df[df[i]>UTV][i])\n",
    "        upperout.sort()\n",
    "        print(upperout) \n",
    "        print()"
   ]
  },
  {
   "cell_type": "code",
   "execution_count": null,
   "id": "53f9a3ce",
   "metadata": {},
   "outputs": [],
   "source": [
    "outlier_detect(xtest)"
   ]
  },
  {
   "cell_type": "code",
   "execution_count": null,
   "id": "3f15c4ae",
   "metadata": {},
   "outputs": [],
   "source": [
    "def outlier_replacement(df):\n",
    "    for i in df.describe().columns:\n",
    "        Q1 = df.describe().at['25%',i]\n",
    "        Q3 = df.describe().at['75%',i]\n",
    "        IQR = Q3 - Q1\n",
    "        LTV = Q1 - 1.5 * IQR\n",
    "        UTV = Q3 + 1.5 * IQR\n",
    "        \n",
    "        # replacement vals\n",
    "        median = df[i].median()\n",
    "        low_bound = LTV\n",
    "        high_bound = UTV\n",
    "        fifth = df[i].quantile(0.05)\n",
    "        ninetyfifth = df[i].quantile(0.95)\n",
    "        \n",
    "        # mask method is used to replace the values\n",
    "        df[i] = df[i].mask(df[i]<LTV, low_bound) # replacing the outlier with ltv (25% value)\n",
    "        df[i] = df[i].mask(df[i]>UTV, high_bound) # replacing the outlier with utv (75% value)"
   ]
  },
  {
   "cell_type": "code",
   "execution_count": null,
   "id": "50354908",
   "metadata": {},
   "outputs": [],
   "source": [
    "outlier_replacement(xtrain)"
   ]
  },
  {
   "cell_type": "code",
   "execution_count": null,
   "id": "ed7f6501",
   "metadata": {},
   "outputs": [],
   "source": [
    "outlier_replacement(xtest)"
   ]
  },
  {
   "cell_type": "markdown",
   "id": "ccf6b598",
   "metadata": {},
   "source": [
    "* Above we have handled the outliers,by using IQR and median."
   ]
  },
  {
   "cell_type": "markdown",
   "id": "f95e308d",
   "metadata": {},
   "source": [
    "### 7. Pre-Processing of xtrain & xtest<a id='ppxt'>\n",
    "[Back To Top](#menu)"
   ]
  },
  {
   "cell_type": "markdown",
   "id": "9dffc2ff",
   "metadata": {},
   "source": [
    "**7.1 Categorical to Numerical (Encoding)**\n",
    "\n",
    "Machine needs data in numeric format, so we need to convert categorical to numerical, while observing the number of classes , because it will increase the dimensionality if we are converting them to one hot encoding.\n",
    "\n",
    "* Label Encoding for ordinal\n",
    "    - lets assume cat column data : verygood,good,poor\n",
    "    - ordinal - verygood>good>poor\n",
    "                3>2>1\n",
    "* One hot encodig for nominal\n",
    "    - lets assume cat column data: a, b, c\n",
    "\n",
    "a|b|c\n",
    "--|--|--\n",
    "1|0|0\n",
    "1|0|0\n",
    "0|1|0\n",
    "0|0|1"
   ]
  },
  {
   "cell_type": "markdown",
   "id": "60854fde",
   "metadata": {},
   "source": [
    "**Label encoding**\n",
    "* Here we are giving manually without using label encoder function."
   ]
  },
  {
   "cell_type": "markdown",
   "id": "8bf30e61",
   "metadata": {},
   "source": [
    "Regular_gasoline  >  Premium_gasoline  >  Diesel  >  E85\n",
    "\n",
    "    1    >        2           >      3   >    4"
   ]
  },
  {
   "cell_type": "code",
   "execution_count": null,
   "id": "5da04943",
   "metadata": {},
   "outputs": [],
   "source": [
    "xtrain.Fuel_Type.replace({'Regular_gasoline':1,\n",
    "                 'Premium_gasoline':2,\n",
    "                 'Diesel':3,\n",
    "                 'E85':4},inplace = True)"
   ]
  },
  {
   "cell_type": "code",
   "execution_count": null,
   "id": "499d5f1a",
   "metadata": {},
   "outputs": [],
   "source": [
    "xtest.Fuel_Type.replace({'Regular_gasoline':1,\n",
    "                 'Premium_gasoline':2,\n",
    "                 'Diesel':3,\n",
    "                 'E85':4},inplace = True)"
   ]
  },
  {
   "cell_type": "code",
   "execution_count": null,
   "id": "462bee58",
   "metadata": {},
   "outputs": [],
   "source": [
    "xtrain"
   ]
  },
  {
   "cell_type": "code",
   "execution_count": null,
   "id": "4fa27d67",
   "metadata": {},
   "outputs": [],
   "source": [
    "xtest"
   ]
  },
  {
   "cell_type": "markdown",
   "id": "cdda06d8",
   "metadata": {},
   "source": [
    "**Vehicle_Class**"
   ]
  },
  {
   "cell_type": "code",
   "execution_count": null,
   "id": "f1b66ad9",
   "metadata": {},
   "outputs": [],
   "source": [
    "xtrain.Vehicle_Class.unique()"
   ]
  },
  {
   "cell_type": "code",
   "execution_count": null,
   "id": "727e2c38",
   "metadata": {},
   "outputs": [],
   "source": [
    "xtrain.Vehicle_Class.replace({'minicompact': 1,'subcompact':2, 'compact':3, 'mid_size':4,\n",
    "                 'full_size':5,'suv_ small':6,'suv_ standard':7,'two_seater':8,\n",
    "                 'minivan':9,'station wagon_ small':10,'station wagon_ mid_size':11,\n",
    "                 'pickup truck_ small':12,'pickup truck_ standard':13,\n",
    "                 'special purpose vehicle':14},inplace = True)"
   ]
  },
  {
   "cell_type": "code",
   "execution_count": null,
   "id": "acc89a0b",
   "metadata": {},
   "outputs": [],
   "source": [
    "xtest.Vehicle_Class.replace({'minicompact': 1,'subcompact':2, 'compact':3, 'mid_size':4,\n",
    "                 'full_size':5,'suv_ small':6,'suv_ standard':7,'two_seater':8,\n",
    "                 'minivan':9,'station wagon_ small':10,'station wagon_ mid_size':11,\n",
    "                 'pickup truck_ small':12,'pickup truck_ standard':13,\n",
    "                 'special purpose vehicle':14},inplace = True)"
   ]
  },
  {
   "cell_type": "code",
   "execution_count": null,
   "id": "0a2566f5",
   "metadata": {},
   "outputs": [],
   "source": [
    "xtrain.head(2)"
   ]
  },
  {
   "cell_type": "code",
   "execution_count": null,
   "id": "7dc74561",
   "metadata": {},
   "outputs": [],
   "source": [
    "xtest.head(2)"
   ]
  },
  {
   "cell_type": "markdown",
   "id": "cf38cf19",
   "metadata": {},
   "source": [
    "**Transmission**"
   ]
  },
  {
   "cell_type": "code",
   "execution_count": null,
   "id": "d8b8e88d",
   "metadata": {
    "scrolled": true
   },
   "outputs": [],
   "source": [
    "xtrain.Transmission.unique()"
   ]
  },
  {
   "cell_type": "code",
   "execution_count": null,
   "id": "84e133b4",
   "metadata": {},
   "outputs": [],
   "source": [
    "xtrain.Transmission.replace({'Continuously_variable1': 1,'Manual5':2, 'Automatic_with_select_shift5':3,\n",
    "                            'Manual6':4,'Automatic_with_select_shift6':5,'Continuously_variable6':6,'Automated_manual7':7,\n",
    "                            'Automaticwith_select_shift7':8,'Manual7':9,'Automatic8':10,\n",
    "                            'Automatic_with_select_shift8':11,'Automated_manual8':12,'Continuously_variable8':13,\n",
    "                            'Continuously_variable7':14,'Automatic_with_select_shift9':15,'Automated9':16,\n",
    "                            'Automated10':17,'Automated7':18,'Continuously_variable10':19,\n",
    "                            'Continuously_variable':20,'Automated6':21,'Automated_manual6':22,'Automatic_with_select_shift10':23},inplace = True)"
   ]
  },
  {
   "cell_type": "code",
   "execution_count": null,
   "id": "734ec69c",
   "metadata": {},
   "outputs": [],
   "source": [
    "xtest.Transmission.replace({'Continuously_variable1': 1,'Manual5':2, 'Automatic_with_select_shift5':3,\n",
    "                            'Manual6':4,'Automatic_with_select_shift6':5,'Continuously_variable6':6,'Automated_manual7':7,\n",
    "                            'Automaticwith_select_shift7':8,'Manual7':9,'Automatic8':10,\n",
    "                            'Automatic_with_select_shift8':11,'Automated_manual8':12,'Continuously_variable8':13,\n",
    "                            'Continuously_variable7':14,'Automatic_with_select_shift9':15,'Automated9':16,\n",
    "                            'Automated10':17,'Automated7':18,'Continuously_variable10':19,\n",
    "                            'Continuously_variable':20,'Automated6':21,'Automated_manual6':22,'Automatic_with_select_shift10':23},inplace = True)"
   ]
  },
  {
   "cell_type": "code",
   "execution_count": null,
   "id": "131bdc57",
   "metadata": {},
   "outputs": [],
   "source": [
    "xtrain.head(2)"
   ]
  },
  {
   "cell_type": "code",
   "execution_count": null,
   "id": "1a9d567e",
   "metadata": {},
   "outputs": [],
   "source": [
    "xtest.head(2)"
   ]
  },
  {
   "cell_type": "markdown",
   "id": "32eeb692",
   "metadata": {},
   "source": [
    "* Most the data in the model column are unique values so the size of the data increases so the model get biased so considering all these things we are dropping the model column"
   ]
  },
  {
   "cell_type": "code",
   "execution_count": null,
   "id": "1719ea0d",
   "metadata": {
    "scrolled": true
   },
   "outputs": [],
   "source": [
    "xtrain.Make.nunique()"
   ]
  },
  {
   "cell_type": "code",
   "execution_count": null,
   "id": "53148f10",
   "metadata": {},
   "outputs": [],
   "source": [
    "xtest.head(2)"
   ]
  },
  {
   "cell_type": "code",
   "execution_count": null,
   "id": "1475398e",
   "metadata": {},
   "outputs": [],
   "source": [
    "xtrain.Make.nunique()"
   ]
  },
  {
   "cell_type": "markdown",
   "id": "2731d438",
   "metadata": {},
   "source": [
    "**OneHot encoding**"
   ]
  },
  {
   "cell_type": "code",
   "execution_count": null,
   "id": "a8f22259",
   "metadata": {},
   "outputs": [],
   "source": [
    "import numpy as np"
   ]
  },
  {
   "cell_type": "code",
   "execution_count": null,
   "id": "ba95453c",
   "metadata": {},
   "outputs": [],
   "source": [
    "from sklearn.preprocessing import OneHotEncoder"
   ]
  },
  {
   "cell_type": "code",
   "execution_count": null,
   "id": "4bd6dd08",
   "metadata": {},
   "outputs": [],
   "source": [
    "\n"
   ]
  },
  {
   "cell_type": "markdown",
   "id": "cfee291c",
   "metadata": {},
   "source": [
    "**Train**"
   ]
  },
  {
   "cell_type": "code",
   "execution_count": null,
   "id": "c4311ae0",
   "metadata": {},
   "outputs": [],
   "source": [
    "# fit_transform is used for fitting the data and for transforming data \n",
    "ohedata = ohe.fit_transform(np.array(xtrain.Make).reshape(-1,1)).toarray() #reshape used as we took only one column if we dont change the will be in series"
   ]
  },
  {
   "cell_type": "code",
   "execution_count": null,
   "id": "0ca79260",
   "metadata": {},
   "outputs": [],
   "source": [
    "# Converting the one hot data to a data frame with col names\n",
    "ohedata = pd.DataFrame(ohedata,columns=ohe.get_feature_names_out(['Make']))"
   ]
  },
  {
   "cell_type": "code",
   "execution_count": null,
   "id": "2b774891",
   "metadata": {},
   "outputs": [],
   "source": [
    "ohedata"
   ]
  },
  {
   "cell_type": "code",
   "execution_count": null,
   "id": "125771e7",
   "metadata": {},
   "outputs": [],
   "source": [
    "xtrain = pd.concat([xtrain.iloc[:,1:],ohedata], axis = 1)"
   ]
  },
  {
   "cell_type": "code",
   "execution_count": null,
   "id": "62c39b98",
   "metadata": {},
   "outputs": [],
   "source": [
    "xtrain.head(2)"
   ]
  },
  {
   "cell_type": "markdown",
   "id": "402b5ba1",
   "metadata": {},
   "source": [
    "**Test**"
   ]
  },
  {
   "cell_type": "code",
   "execution_count": null,
   "id": "9b7d3313",
   "metadata": {},
   "outputs": [],
   "source": [
    "ohedata = ohe.transform(np.array(xtest.Make).reshape(-1,1)).toarray()"
   ]
  },
  {
   "cell_type": "code",
   "execution_count": null,
   "id": "f066ce03",
   "metadata": {},
   "outputs": [],
   "source": [
    "ohedata = pd.DataFrame(ohedata,columns=ohe.get_feature_names_out(['Make']))"
   ]
  },
  {
   "cell_type": "code",
   "execution_count": null,
   "id": "a315d128",
   "metadata": {},
   "outputs": [],
   "source": [
    "xtest = pd.concat([xtest.iloc[:,1:],ohedata], axis = 1)"
   ]
  },
  {
   "cell_type": "code",
   "execution_count": null,
   "id": "31d92469",
   "metadata": {
    "scrolled": true
   },
   "outputs": [],
   "source": [
    "xtest.head(2)"
   ]
  },
  {
   "cell_type": "markdown",
   "id": "2aab67b8",
   "metadata": {},
   "source": [
    "**Scaling Numeric Data (if necessary)**\n",
    "\n",
    "We need to apply scaling for the input numerical continuous columns which are in different scales only ,not to the one hot encoded vectors\n",
    "\n",
    "Scaling is not suggested for numerical output column\n",
    "\n",
    "Scaling is applied based on the model we are using for prediction\n",
    "\n",
    "\n",
    "**For this data numerical values are in different scales and we are building regression , scaling is suggested**\n",
    "\n",
    "**We have two scales**\n",
    "\n",
    "1. Standard Scaler / Standardization (Mostly Suggested)\n",
    "\n",
    "        x-mean/std \n",
    "    \n",
    "    entire column data can be converted into normal distribution with mean 0 and std 1\n",
    "    \n",
    "    \n",
    "    \n",
    "2. Normalization\n",
    "\n",
    "    MinMax Scale\n",
    "\n",
    "    xi-min(x)/max(x)-min(x)\n",
    "\n",
    "        data in 0 to 1 range\n"
   ]
  },
  {
   "cell_type": "markdown",
   "id": "67079362",
   "metadata": {},
   "source": [
    "* We can scale numeric columns when we have huge scale difference if algorithm needed"
   ]
  },
  {
   "cell_type": "markdown",
   "id": "fc8f9605",
   "metadata": {},
   "source": [
    "* For our data we consider scaling is not necessary."
   ]
  },
  {
   "cell_type": "code",
   "execution_count": null,
   "id": "64112314",
   "metadata": {},
   "outputs": [],
   "source": []
  },
  {
   "cell_type": "markdown",
   "id": "eae3e6c5",
   "metadata": {},
   "source": [
    "### 8. Modelling<a id='model'>\n",
    "\n",
    "[Back to Top](#menu)\n",
    "* Models\n",
    "\n",
    "y = f(x)+e\n",
    "\n",
    "* y data is a numeric data , we will be using regression algorithms\n",
    "\n",
    "* Linear Algorithms (when the data is linear to output (having correlation))\n",
    "    - Linear Regression\n",
    "    - Polynomial Regression\n",
    "    - Lasso & Ridge Regression\n",
    "\n",
    "* Non-Linear Algorithms (when the data is non-linear to output (not having correlation) using classification algorithms)\n",
    "    - RandomForest Regressor\n",
    "    - Xgboost Regressor"
   ]
  },
  {
   "cell_type": "markdown",
   "id": "2e4a972d",
   "metadata": {},
   "source": [
    "**8.1 Importing Libraries and Define Models**"
   ]
  },
  {
   "cell_type": "code",
   "execution_count": null,
   "id": "b1e33898",
   "metadata": {},
   "outputs": [],
   "source": [
    "from sklearn.linear_model import LinearRegression\n",
    "from sklearn.linear_model import Lasso, Ridge\n",
    "from sklearn.preprocessing import PolynomialFeatures\n",
    "from sklearn.ensemble import RandomForestRegressor\n",
    "from sklearn.svm import SVR\n",
    "from xgboost import XGBRegressor"
   ]
  },
  {
   "cell_type": "markdown",
   "id": "fe8f63b0",
   "metadata": {},
   "source": [
    "**In Sklearn**\n",
    "\n",
    "* sklearn.preprocessing \n",
    "    - Label Encoder, OneHotEncoder, StandardScaler \n",
    "        - fit_transform, transform\n",
    "* sklearn.model_selection\n",
    "    - train-test split\n",
    "* sklearn.linear_model\n",
    "    - LinearRegression \n",
    "        - fit, predict\n",
    "* sklearn.metrics\n",
    "    - r2_score"
   ]
  },
  {
   "cell_type": "markdown",
   "id": "c130ca7f",
   "metadata": {},
   "source": [
    "**Defining Models**"
   ]
  },
  {
   "cell_type": "code",
   "execution_count": null,
   "id": "71a5084d",
   "metadata": {},
   "outputs": [],
   "source": [
    "# Multiple Linear Regression \n",
    "\n",
    "mlr = LinearRegression()\n",
    "\n",
    "# Polynomial Regression\n",
    "\n",
    "polyfeat = PolynomialFeatures(degree = 2)  # degree is hyperparam\n",
    "\n",
    "poly = LinearRegression()\n",
    "\n",
    "# Lasso (L1) & Ridge (L2)\n",
    "\n",
    "lasso = Lasso(alpha = 5) # alpha - hyperparam - penalty\n",
    "\n",
    "ridge = Ridge(alpha = 5)\n",
    "\n",
    "# Random Forest regressor\n",
    "\n",
    "rf = RandomForestRegressor(n_estimators=50) # n_estimators - hyperparam - number of decision trees\n",
    "\n",
    "# Support Vector Regressor\n",
    "\n",
    "svr = SVR(kernel='rbf') # non-linear kernel for non-linear data\n",
    "\n",
    "# Xgb\n",
    "\n",
    "xgb = XGBRegressor()\n"
   ]
  },
  {
   "cell_type": "markdown",
   "id": "a4e4ea73",
   "metadata": {},
   "source": [
    "**8.2 Model Training**\n",
    "\n",
    "* Using xtrain, ytrain data\n",
    "* Using fit command to train the defined model with xtrain, ytrain"
   ]
  },
  {
   "cell_type": "markdown",
   "id": "897b0d4a",
   "metadata": {},
   "source": [
    "**linear regression**"
   ]
  },
  {
   "cell_type": "code",
   "execution_count": null,
   "id": "cccdf6cb",
   "metadata": {},
   "outputs": [],
   "source": [
    "# Model Training\n",
    "\n",
    "mlr.fit(xtrain, ytrain)"
   ]
  },
  {
   "cell_type": "markdown",
   "id": "6bc0c13f",
   "metadata": {},
   "source": [
    "Model Parameters"
   ]
  },
  {
   "cell_type": "code",
   "execution_count": null,
   "id": "8a274089",
   "metadata": {
    "scrolled": true
   },
   "outputs": [],
   "source": [
    "mlr.coef_, mlr.intercept_"
   ]
  },
  {
   "cell_type": "code",
   "execution_count": null,
   "id": "fce57cac",
   "metadata": {},
   "outputs": [],
   "source": [
    "eq = str(mlr.intercept_)\n",
    "\n",
    "for i,j in zip(xtrain.columns,mlr.coef_):\n",
    "    mx = '{}*{}'.format(i,j)\n",
    "    eq = eq+\") + (\"+mx"
   ]
  },
  {
   "cell_type": "code",
   "execution_count": null,
   "id": "3a537b4f",
   "metadata": {},
   "outputs": [],
   "source": [
    "eq"
   ]
  },
  {
   "cell_type": "markdown",
   "id": "f0ab668f",
   "metadata": {},
   "source": [
    "**Polynomial Regression**"
   ]
  },
  {
   "cell_type": "markdown",
   "id": "84586c33",
   "metadata": {},
   "source": [
    "**The Dimensionality will become more and will take heavy run time if we take all the inputs**"
   ]
  },
  {
   "cell_type": "code",
   "execution_count": null,
   "id": "e821c3e2",
   "metadata": {},
   "outputs": [],
   "source": [
    "xtrain.head(2)"
   ]
  },
  {
   "cell_type": "code",
   "execution_count": null,
   "id": "a9b42ee0",
   "metadata": {},
   "outputs": [],
   "source": [
    "xtrain.columns"
   ]
  },
  {
   "cell_type": "code",
   "execution_count": null,
   "id": "d6badbd4",
   "metadata": {},
   "outputs": [],
   "source": [
    "# Considering 5 x columns only for model training, if we consider all the x columns we will have memory error\n",
    "\n",
    "x_train_p = xtrain.iloc[:,0:10]\n",
    "x_test_p = xtest.iloc[:,0:10]"
   ]
  },
  {
   "cell_type": "code",
   "execution_count": null,
   "id": "732152b3",
   "metadata": {},
   "outputs": [],
   "source": [
    "x_train_p.head(2)"
   ]
  },
  {
   "cell_type": "code",
   "execution_count": null,
   "id": "dd871866",
   "metadata": {},
   "outputs": [],
   "source": [
    "# converting x data to poly features\n",
    "\n",
    "x_train_poly = polyfeat.fit_transform(x_train_p)\n",
    "\n",
    "x_test_poly = polyfeat.transform(x_test_p)"
   ]
  },
  {
   "cell_type": "code",
   "execution_count": null,
   "id": "d1c5791d",
   "metadata": {},
   "outputs": [],
   "source": [
    "x_train_poly.shape, x_test_poly.shape"
   ]
  },
  {
   "cell_type": "code",
   "execution_count": null,
   "id": "20c5f60a",
   "metadata": {},
   "outputs": [],
   "source": [
    "# Model Training\n",
    "\n",
    "poly.fit(x_train_poly, ytrain)"
   ]
  },
  {
   "cell_type": "code",
   "execution_count": null,
   "id": "e4e3c620",
   "metadata": {
    "scrolled": true
   },
   "outputs": [],
   "source": [
    "# params\n",
    "\n",
    "poly.coef_, poly.intercept_"
   ]
  },
  {
   "cell_type": "code",
   "execution_count": null,
   "id": "11385fe5",
   "metadata": {},
   "outputs": [],
   "source": []
  },
  {
   "cell_type": "markdown",
   "id": "c21a91a7",
   "metadata": {},
   "source": [
    "**Lasso and Ridge**"
   ]
  },
  {
   "cell_type": "code",
   "execution_count": null,
   "id": "52529280",
   "metadata": {},
   "outputs": [],
   "source": [
    "# Model Training\n",
    "\n",
    "lasso.fit(xtrain,ytrain), ridge.fit(xtrain,ytrain)"
   ]
  },
  {
   "cell_type": "code",
   "execution_count": null,
   "id": "06f40588",
   "metadata": {
    "scrolled": true
   },
   "outputs": [],
   "source": [
    "# Model params\n",
    "\n",
    "lasso.intercept_, lasso.coef_"
   ]
  },
  {
   "cell_type": "code",
   "execution_count": null,
   "id": "a9d154de",
   "metadata": {
    "scrolled": true
   },
   "outputs": [],
   "source": [
    "ridge.intercept_, ridge.coef_"
   ]
  },
  {
   "cell_type": "code",
   "execution_count": null,
   "id": "3cdbb086",
   "metadata": {},
   "outputs": [],
   "source": [
    "xtrain"
   ]
  },
  {
   "cell_type": "markdown",
   "id": "2b672e8d",
   "metadata": {},
   "source": [
    "**Randomforest Regressor**"
   ]
  },
  {
   "cell_type": "code",
   "execution_count": null,
   "id": "c0f44240",
   "metadata": {},
   "outputs": [],
   "source": [
    "# Model Train\n",
    "\n",
    "rf.fit(xtrain, ytrain)\n",
    "\n",
    "# n_estimators is the number of trees hyperparam"
   ]
  },
  {
   "cell_type": "code",
   "execution_count": null,
   "id": "52905ab4",
   "metadata": {},
   "outputs": [],
   "source": [
    "# Model Params\n",
    "\n",
    "print(\"Model Params:\")\n",
    "print(rf.get_params())\n",
    "print()\n",
    "print(\"Columns Importance:\")\n",
    "print()\n",
    "for i, j in zip(rf.feature_names_in_, rf.feature_importances_):\n",
    "    print(i+\": \"+str(j))"
   ]
  },
  {
   "cell_type": "code",
   "execution_count": null,
   "id": "a1e07296",
   "metadata": {},
   "outputs": [],
   "source": []
  },
  {
   "cell_type": "markdown",
   "id": "60f100a0",
   "metadata": {},
   "source": [
    "**Support Vector Regression**"
   ]
  },
  {
   "cell_type": "code",
   "execution_count": null,
   "id": "e9f902f3",
   "metadata": {},
   "outputs": [],
   "source": [
    "svr.fit(xtrain, ytrain)"
   ]
  },
  {
   "cell_type": "code",
   "execution_count": null,
   "id": "a5ddab4c",
   "metadata": {},
   "outputs": [],
   "source": [
    "svr.get_params()"
   ]
  },
  {
   "cell_type": "markdown",
   "id": "c8424df0",
   "metadata": {},
   "source": [
    "**Xgb Regressor**"
   ]
  },
  {
   "cell_type": "code",
   "execution_count": null,
   "id": "d9f46483",
   "metadata": {},
   "outputs": [],
   "source": [
    "# Model Training\n",
    "\n",
    "xgb.fit(xtrain, ytrain)"
   ]
  },
  {
   "cell_type": "code",
   "execution_count": null,
   "id": "1232fb5e",
   "metadata": {
    "scrolled": true
   },
   "outputs": [],
   "source": [
    "xgb.get_params()"
   ]
  },
  {
   "cell_type": "markdown",
   "id": "9b54ab0a",
   "metadata": {},
   "source": [
    "### 9. Model Performance<a id='mp'>\n",
    "\n",
    "[Back to Top](#menu)\n",
    "* Checking Trained Model Performances on Test Data\n",
    "\n",
    "* Using x_test data we will be getting predictions, these predictions will be compared to y_test\n",
    "\n",
    "* To check Model Performance we can use evaluation methods\n",
    "\n",
    "    * Error/Loss\n",
    "    * Model Score \n",
    "    * Bias-Variance Trade off (Underfit or Overfit)\n",
    "    * Cross-Val Score\n",
    "\n",
    "For regression we can use these evaluation\n",
    "\n",
    "\n",
    "Performance Metric | Regression\n",
    "-------|-----------\n",
    "**Loss or Error**|MeanSquaredError/RMSE (For both Train and Test)\n",
    "**Model Score (Evaluation)** | R2score (Coefficient of Determination)\n",
    "**Bias-Variance Trade Off**|Higher error & Lower score (underfit)\n",
    "--|Low Train error & High Test error (Overfit)\n",
    "**Cross-Val Score**|Checking trained model performance on entire X and y data"
   ]
  },
  {
   "cell_type": "code",
   "execution_count": null,
   "id": "856c78c5",
   "metadata": {},
   "outputs": [],
   "source": [
    "from sklearn.metrics import r2_score, mean_squared_error\n",
    "from sklearn.model_selection import cross_val_score"
   ]
  },
  {
   "cell_type": "markdown",
   "id": "e3f9fb42",
   "metadata": {},
   "source": [
    "generating predictions for xtest data\n",
    "\n",
    "* Using predict method in trained model to get ypredictions on test data\n",
    "* Comparing ypred values with ytest for loss and performance"
   ]
  },
  {
   "cell_type": "markdown",
   "id": "4e549a88",
   "metadata": {},
   "source": [
    "**Single Function for all models Evaluation**"
   ]
  },
  {
   "cell_type": "code",
   "execution_count": null,
   "id": "6f814af4",
   "metadata": {},
   "outputs": [],
   "source": [
    "names = ['Multiple Linear Regression','Polynomial Regression','Lasso Regression',\n",
    "        'Ridge Regression','RandomForest Regressor',\"Support Vector Regressor\", \n",
    "         'Xgboost Regressor']\n",
    "\n",
    "models = {'mlr':mlr, 'poly':poly, 'lasso':lasso, 'ridge':ridge, 'rf':rf, 'svr':svr, 'xgb':xgb}"
   ]
  },
  {
   "cell_type": "code",
   "execution_count": null,
   "id": "11b18e84",
   "metadata": {},
   "outputs": [],
   "source": [
    "X = pd.concat([xtrain, xtest], axis = 0)\n",
    "Y = pd.concat([ytrain, ytest], axis = 0)"
   ]
  },
  {
   "cell_type": "code",
   "execution_count": null,
   "id": "8653a202",
   "metadata": {},
   "outputs": [],
   "source": [
    "X.shape, Y.shape"
   ]
  },
  {
   "cell_type": "code",
   "execution_count": null,
   "id": "1e797d2c",
   "metadata": {},
   "outputs": [],
   "source": [
    "# Defining empty lists\n",
    "\n",
    "trainRMSE = []\n",
    "testRMSE = []\n",
    "\n",
    "trainscore = []\n",
    "testscore = []\n",
    "\n",
    "fit = []\n",
    "\n",
    "crossvalscore = []"
   ]
  },
  {
   "cell_type": "markdown",
   "id": "5ee0b7d5",
   "metadata": {},
   "source": [
    "**Short Code**"
   ]
  },
  {
   "cell_type": "code",
   "execution_count": null,
   "id": "cf65701f",
   "metadata": {},
   "outputs": [],
   "source": [
    "for name, model in models.items():\n",
    "        \n",
    "    if name == 'poly':\n",
    "        \n",
    "        ptrain = xtrain.iloc[:,0:10]\n",
    "        ptest = xtest.iloc[:,0:10]\n",
    "        \n",
    "        pftrain = polyfeat.transform(ptrain)\n",
    "        pftest = polyfeat.transform(ptest)\n",
    "        \n",
    "        # RMSE , R2score\n",
    "        \n",
    "        \n",
    "        trainRMSE.append(round(np.sqrt(mean_squared_error(ytrain, models[name].predict(pftrain))),2))\n",
    "        testRMSE.append(round(np.sqrt(mean_squared_error(ytest, models[name].predict(pftest))), 2))\n",
    "        trainscore.append(round(r2_score(ytrain, models[name].predict(pftrain)),2))\n",
    "        testscore.append(round(r2_score(ytest, models[name].predict(pftest)),2))\n",
    "        trscore = r2_score(ytrain, models[name].predict(pftrain))\n",
    "        tescore = r2_score(ytest, models[name].predict(pftest))\n",
    "        \n",
    "        # Bias-Variance Trade off\n",
    "        \n",
    "#         if trscore<0.50 and tescore<0.50:\n",
    "#             fit.append(\"Underfit\")\n",
    "#         elif trscore>0.70 and tescore<0.60:\n",
    "#             fit.append(\"Overfit\")\n",
    "#         else:\n",
    "#             fit.append(\"Goodfit\")\n",
    "\n",
    "#         if trscore-tescore>=0.10:\n",
    "#             fit.append(\"Overfit\")\n",
    "#         elif trscore-tescore<0.10 and trscore<=0.50 and tescore<=0.50:\n",
    "#             fit.append(\"Underfit\")\n",
    "#         else:\n",
    "#             fit.append(\"Goodfit\")\n",
    "\n",
    "        \n",
    "        if trscore>=0.60 and tescore>=0.60:\n",
    "            if trscore>tescore:\n",
    "                if trscore-tescore>=0.10:\n",
    "                    fit.append(\"Overfit\")\n",
    "                elif trscore-tescore<0.10:\n",
    "                    fit.append(\"Goodfit\")\n",
    "                else:\n",
    "                    fit.append('Nofit')\n",
    "            else:\n",
    "                fit.append(\"Nofit\")\n",
    "        elif trscore<0.60 and tescore<0.60:\n",
    "            if abs(trscore)==0 and abs(tescore)==0:\n",
    "                fit.append(\"Nofit\")\n",
    "            else:\n",
    "                fit.append(\"Underfit\")\n",
    "        else:\n",
    "            fit.append(\"Nofit\")\n",
    "        \n",
    "        # Cross validation\n",
    "\n",
    "        scores = cross_val_score(models[name], X.iloc[:,0:10], Y, cv=3)\n",
    "        crossvalscore.append(round(scores.mean(),2))\n",
    "        \n",
    "    else:\n",
    "        \n",
    "        # RMSE, R2score\n",
    "\n",
    "        trainRMSE.append(round(np.sqrt(mean_squared_error(ytrain, models[name].predict(xtrain))),2))\n",
    "        testRMSE.append(round(np.sqrt(mean_squared_error(ytest, models[name].predict(xtest))),2))\n",
    "        trainscore.append(round(r2_score(ytrain, models[name].predict(xtrain)),2))\n",
    "        testscore.append(round(r2_score(ytest, models[name].predict(xtest)),2))\n",
    "        trscore = r2_score(ytrain, models[name].predict(xtrain))\n",
    "        tescore = r2_score(ytest, models[name].predict(xtest))\n",
    "        \n",
    "        # Bias-Variance Trade off\n",
    "        \n",
    "        if trscore>=0.60 and tescore>=0.60:\n",
    "            if trscore>tescore:\n",
    "                if trscore-tescore>=0.10:\n",
    "                    fit.append(\"Overfit\")\n",
    "                elif trscore-tescore<0.10:\n",
    "                    fit.append(\"Goodfit\")\n",
    "                else:\n",
    "                    fit.append('Nofit')\n",
    "            else:\n",
    "                fit.append(\"Nofit\")\n",
    "        elif trscore<0.60 and tescore<0.60:\n",
    "            if abs(trscore)==0 and abs(tescore)==0:\n",
    "                fit.append(\"Nofit\")\n",
    "            else:\n",
    "                fit.append(\"Underfit\")\n",
    "        else:\n",
    "            fit.append(\"Nofit\")\n",
    "\n",
    "        # Cross-val score\n",
    "        \n",
    "        scores = cross_val_score(models[name], X, Y, cv=3)\n",
    "        crossvalscore.append(round(scores.mean(),2))"
   ]
  },
  {
   "cell_type": "code",
   "execution_count": null,
   "id": "90fe9323",
   "metadata": {},
   "outputs": [],
   "source": [
    "pd.set_option('display.float_format', lambda x: '%.3f' % x)"
   ]
  },
  {
   "cell_type": "code",
   "execution_count": null,
   "id": "e01f8955",
   "metadata": {},
   "outputs": [],
   "source": [
    "display(pd.DataFrame({'Model':names, 'Trainedmodel':models.values(), 'TrainRMSE':trainRMSE, 'TestRMSE':testRMSE,\n",
    "             'Trainscore':trainscore, 'Testscore':testscore, 'Crossvalscore':crossvalscore, 'Fit':fit}))"
   ]
  },
  {
   "cell_type": "code",
   "execution_count": null,
   "id": "6497ad1b",
   "metadata": {},
   "outputs": [],
   "source": []
  },
  {
   "cell_type": "markdown",
   "id": "0b3d3490",
   "metadata": {},
   "source": [
    "## 10.RealTimePredictions<a id='rtp'>\n",
    "[BackToTop](#menu)"
   ]
  },
  {
   "cell_type": "code",
   "execution_count": null,
   "id": "b59dfd93",
   "metadata": {},
   "outputs": [],
   "source": [
    "x.head(2)"
   ]
  },
  {
   "cell_type": "code",
   "execution_count": null,
   "id": "69a881c3",
   "metadata": {},
   "outputs": [],
   "source": [
    "x.columns"
   ]
  },
  {
   "cell_type": "code",
   "execution_count": null,
   "id": "054e2f42",
   "metadata": {},
   "outputs": [],
   "source": [
    "from sklearn.preprocessing import LabelEncoder"
   ]
  },
  {
   "cell_type": "code",
   "execution_count": null,
   "id": "d2c748ab",
   "metadata": {},
   "outputs": [],
   "source": [
    "le = LabelEncoder()"
   ]
  },
  {
   "cell_type": "code",
   "execution_count": null,
   "id": "60e1861b",
   "metadata": {},
   "outputs": [],
   "source": [
    "def predict_FuelConsumption():\n",
    "    \n",
    "    from IPython.display import display\n",
    "    print(\"Enter Details of Vehicle:\")\n",
    "    print(\"Model Trained on The Below columns:\")\n",
    "    print(x.columns)\n",
    "    print()\n",
    "    print(\"===================================================\")\n",
    "    print()\n",
    "    \n",
    "    print(x.Make.unique())\n",
    "    Make = input(\"Enter the Vehicle Name: \")\n",
    "    print()\n",
    "\n",
    "    print(x[(x.Make==Make)].Vehicle_Class.unique())\n",
    "    Vehicle_Class = input(\"Enter Vehicle_Class: \")\n",
    "    print()\n",
    "    \n",
    "    Engine_Size_L = float(input(\"Enter Engine_Size_L: \"))\n",
    "    print()\n",
    "    \n",
    "    Cylinders = int(input(\"Enter Cylinders: \"))\n",
    "    print()\n",
    "    \n",
    "    print(x[(x.Make==Make)].Transmission.unique())\n",
    "    Transmission = input(\"Enter Transmission: \")\n",
    "    print()\n",
    "    \n",
    "    print(x[(x.Make==Make)].Fuel_Type.unique())\n",
    "    Fuel_Type = input(\"Enter Fuel_Type: \")\n",
    "    print()\n",
    "    \n",
    "    Fuel_Consumption_City_L_100_km = float(input(\"Enter Fuel_Consumption_City_L_100_km: \"))\n",
    "    print()\n",
    "    \n",
    "    Fuel_Consumption_Hwy_L_100_km = float(input(\"Enter Fuel_Consumption_Hwy_L_100_km: \"))\n",
    "    print()\n",
    "    \n",
    "    Fuel_Consumption_Comb_mpg = float(input(\"Enter Fuel_Consumption_Comb_mpg: \"))\n",
    "    print()\n",
    "    \n",
    "    CO2_Emissions_g_km = int(input(\"Enter CO2_Emissions_g_km: \"))\n",
    "    print()\n",
    "    \n",
    "    CO2_Rating = int(input(\"Enter CO2_Rating: \"))\n",
    "    print()\n",
    "    \n",
    "    Smog_Rating = int(input(\"Enter Smog_Rating: \"))\n",
    "    print()\n",
    "    \n",
    "    row = [Make,Vehicle_Class,Engine_Size_L,Cylinders,Transmission,Fuel_Type,Fuel_Consumption_City_L_100_km,\n",
    "       Fuel_Consumption_Hwy_L_100_km,Fuel_Consumption_Comb_mpg,CO2_Emissions_g_km,CO2_Rating,Smog_Rating]\n",
    "      \n",
    "    rdata = pd.DataFrame([row], \n",
    "                         columns = ['Make', 'Vehicle_Class', 'Engine_Size_L', 'Cylinders',\n",
    "       'Transmission', 'Fuel_Type', 'Fuel_Consumption_City_L_100_km',\n",
    "       'Fuel_Consumption_Hwy_L_100_km', 'Fuel_Consumption_Comb_mpg',\n",
    "       'CO2_Emissions_g_km', 'CO2_Rating', 'Smog_Rating'])\n",
    "    \n",
    "    print(\"Given Vehicle Details:\")\n",
    "    display(rdata.head())\n",
    "    print()\n",
    "    \n",
    "    data = rdata\n",
    "    \n",
    "    data.iloc[:, [1,4,5]] = data.iloc[:, [1,4,5]].apply(le.fit_transform)\n",
    "                      \n",
    "    ohedata = ohe.transform(np.array(data.Make).reshape(-1,1)).toarray()\n",
    "    ohedata = pd.DataFrame(ohedata,columns=ohe.get_feature_names_out(['Make']))\n",
    "    data = pd.concat([data.iloc[:,[1,2,3,4,5,6,7,8,9,10,11]],ohedata], axis = 1) \n",
    "    \n",
    "    Fuel_Consumption_Comb_L_100_km= rf.predict(data)[0]\n",
    "    \n",
    "    print(\"Estimated Fuel Consumption: \", round( Fuel_Consumption_Comb_L_100_km,2))\n",
    "    print(\"============================================================\")\n",
    "    print()"
   ]
  },
  {
   "cell_type": "code",
   "execution_count": null,
   "id": "55abb9fc",
   "metadata": {},
   "outputs": [],
   "source": [
    "display(x.head(10))\n",
    "y.head(10)"
   ]
  },
  {
   "cell_type": "code",
   "execution_count": null,
   "id": "0d8587b0",
   "metadata": {
    "scrolled": true
   },
   "outputs": [],
   "source": [
    "predict_FuelConsumption()"
   ]
  },
  {
   "cell_type": "markdown",
   "id": "21b79370",
   "metadata": {},
   "source": [
    "* Random forest regressor is giving best predictions, the actual value is 8.600 and predicted value 8.59 which negligible."
   ]
  },
  {
   "cell_type": "markdown",
   "id": "dd641731",
   "metadata": {},
   "source": [
    "**Completed👍**"
   ]
  },
  {
   "cell_type": "code",
   "execution_count": null,
   "id": "d7866baf",
   "metadata": {},
   "outputs": [],
   "source": []
  }
 ],
 "metadata": {
  "kernelspec": {
   "display_name": "Python 3 (ipykernel)",
   "language": "python",
   "name": "python3"
  },
  "language_info": {
   "codemirror_mode": {
    "name": "ipython",
    "version": 3
   },
   "file_extension": ".py",
   "mimetype": "text/x-python",
   "name": "python",
   "nbconvert_exporter": "python",
   "pygments_lexer": "ipython3",
   "version": "3.11.4"
  }
 },
 "nbformat": 4,
 "nbformat_minor": 5
}
